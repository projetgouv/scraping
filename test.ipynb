{
 "cells": [
  {
   "cell_type": "code",
   "execution_count": 5,
   "metadata": {},
   "outputs": [],
   "source": [
    "import pandas as pd\n",
    "import datetime\n",
    "from dateutil.relativedelta import relativedelta\n"
   ]
  },
  {
   "cell_type": "code",
   "execution_count": 7,
   "metadata": {},
   "outputs": [],
   "source": [
    "import streamlit as st\n",
    "import pandas as pd\n",
    "import plotly.express as px\n",
    "from datetime import datetime\n",
    "from dateutil.relativedelta import relativedelta\n",
    "\n",
    "col = ['date', 'rate', 'review_text', 'object_address']\n",
    "path = '/Users/camille/repo/Hetic/projet_gouv/scraping/Data/google_reviews.csv'\n",
    "data =pd.read_csv(path, usecols=col)\n",
    "\n",
    "data['date'] = data['date'].replace('a year ago', '1 year ago')\n",
    "data['date'] = data['date'].replace('a month ago','1 month ago')\n",
    "data['date'] = data['date'].replace('a week ago','1 week ago')\n",
    "\n",
    "current_datetime = datetime.now()\n",
    "data['date'] = data['date'].apply(lambda x: current_datetime - relativedelta(years=int(x.split()[0])) if 'year' in x\n",
    "                                     else current_datetime - relativedelta(months=int(x.split()[0])) if 'month' in x\n",
    "                                     else current_datetime - relativedelta(weeks=int(x.split()[0])) if 'week' in x\n",
    "                                     else current_datetime - relativedelta(days=int(x.split()[0])) if 'day' in x\n",
    "                                     else None)\n",
    "\n",
    "\n",
    "\n",
    "# Extraire uniquement la partie de la date\n",
    "data['date'] = data['date'].apply(lambda x: x.date())\n",
    "\n",
    "\n",
    "data['date'] = pd.to_datetime(data['date'])\n",
    "loc = pd.read_csv('/Users/camille/repo/Hetic/projet_gouv/scraping/Data/location.csv', sep=';')\n",
    "loc.rename(columns={'adresse':'object_address'}, inplace=True)\n",
    "loc['object_address'] = loc['object_address'].str.lower().str.strip()\n",
    "data['object_address'] = data['object_address'].str.lower().str.strip()\n",
    "#remove comma\n",
    "data['object_address'] = data['object_address'].str.replace(',', '')\n",
    "data['object_address'] = data['object_address'].str.replace('11 rue pelée 75011 paris', '11 rue pelee 75011 paris')\n",
    "data['object_address'] = data['object_address'].str.replace('3 bd diderot 75012 paris', '3 boulevard diderot 75012 paris')\n",
    "data['object_address'] = data['object_address'].str.replace('75 av. jean jaurès 75019 paris', '75 avenue jean jaures 75019 paris')\n",
    "data['object_address'] = data['object_address'].str.replace('78 bd ney 75018 paris', '78 boulevard ney 75018 paris')\n",
    "lieux = data['object_address'].unique()\n",
    "address_to_lieu = loc.set_index('object_address')['name'].to_dict()\n",
    "\n",
    "# Ajouter la colonne \"name\" au DataFrame location en utilisant la correspondance de object_address\n",
    "data['object_address'] = data['object_address'].map(address_to_lieu)\n",
    "data.drop(data[data['object_address'] == 'ƒadam'].index, inplace=True)\n",
    "df_lieu = data.groupby(['object_address']).agg(count_rate=('rate', 'count'), mean_rate=('rate', 'mean')).reset_index()\n",
    "\n"
   ]
  },
  {
   "cell_type": "code",
   "execution_count": 11,
   "metadata": {},
   "outputs": [],
   "source": [
    "loc = pd.read_csv('/Users/camille/repo/Hetic/projet_gouv/scraping/Data/location.csv', sep=';')\n",
    "loc.rename(columns={'adresse':'object_address'}, inplace=True)\n",
    "loc['object_address'] = loc['object_address'].str.lower().str.strip()\n",
    "data['object_address'] = data['object_address'].str.lower().str.strip()\n",
    "#remove comma\n",
    "data['object_address'] = data['object_address'].str.replace(',', '')"
   ]
  },
  {
   "cell_type": "code",
   "execution_count": 15,
   "metadata": {},
   "outputs": [],
   "source": [
    "data['object_address'] = data['object_address'].str.replace('11 rue pelée 75011 paris', '11 rue pelee 75011 paris')\n",
    "data['object_address'] = data['object_address'].str.replace('3 bd diderot 75012 paris', '3 boulevard diderot 75012 paris')\n",
    "data['object_address'] = data['object_address'].str.replace('75 av. jean jaurès 75019 paris', '75 avenue jean jaures 75019 paris')\n",
    "data['object_address'] = data['object_address'].str.replace('78 bd ney 75018 paris', '78 boulevard ney 75018 paris')"
   ]
  },
  {
   "cell_type": "code",
   "execution_count": 16,
   "metadata": {},
   "outputs": [],
   "source": [
    "lieux = data['object_address'].unique()"
   ]
  },
  {
   "cell_type": "code",
   "execution_count": 18,
   "metadata": {},
   "outputs": [],
   "source": [
    "address_to_lieu = loc.set_index('object_address')['name'].to_dict()\n",
    "\n",
    "# Ajouter la colonne \"name\" au DataFrame location en utilisant la correspondance de object_address\n",
    "data['object_address'] = data['object_address'].map(address_to_lieu)"
   ]
  },
  {
   "cell_type": "code",
   "execution_count": 20,
   "metadata": {},
   "outputs": [],
   "source": [
    "data.drop(data[data['object_address'] == 'ƒadam'].index, inplace=True)\n"
   ]
  },
  {
   "cell_type": "code",
   "execution_count": 22,
   "metadata": {},
   "outputs": [],
   "source": [
    "df_lieu = data.groupby(['object_address']).agg(count_rate=('rate', 'count'), mean_rate=('rate', 'mean')).reset_index()\n"
   ]
  },
  {
   "cell_type": "code",
   "execution_count": 27,
   "metadata": {},
   "outputs": [],
   "source": [
    "top = df_lieu.sort_values(by='mean_rate', ascending=False).head(1)\n"
   ]
  },
  {
   "cell_type": "code",
   "execution_count": 25,
   "metadata": {},
   "outputs": [],
   "source": [
    "min = df_lieu.sort_values(by='mean_rate', ascending=True).head(1)\n"
   ]
  },
  {
   "cell_type": "code",
   "execution_count": 29,
   "metadata": {},
   "outputs": [
    {
     "data": {
      "text/plain": [
       "'Pole emploi Diderot'"
      ]
     },
     "execution_count": 29,
     "metadata": {},
     "output_type": "execute_result"
    }
   ],
   "source": [
    "min['object_address'].values[0]\n"
   ]
  }
 ],
 "metadata": {
  "kernelspec": {
   "display_name": "clean_data_env",
   "language": "python",
   "name": "python3"
  },
  "language_info": {
   "codemirror_mode": {
    "name": "ipython",
    "version": 3
   },
   "file_extension": ".py",
   "mimetype": "text/x-python",
   "name": "python",
   "nbconvert_exporter": "python",
   "pygments_lexer": "ipython3",
   "version": "3.10.2"
  },
  "orig_nbformat": 4
 },
 "nbformat": 4,
 "nbformat_minor": 2
}
