{
 "cells": [
  {
   "cell_type": "code",
   "execution_count": 55,
   "metadata": {},
   "outputs": [
    {
     "ename": "AttributeError",
     "evalue": "'Classement' object has no attribute 'get_average_ratings'",
     "output_type": "error",
     "traceback": [
      "\u001b[0;31m---------------------------------------------------------------------------\u001b[0m",
      "\u001b[0;31mAttributeError\u001b[0m                            Traceback (most recent call last)",
      "Cell \u001b[0;32mIn[55], line 17\u001b[0m\n\u001b[1;32m     15\u001b[0m classment\u001b[39m.\u001b[39mload_data()\n\u001b[1;32m     16\u001b[0m classment\u001b[39m.\u001b[39mload_location_data()\n\u001b[0;32m---> 17\u001b[0m average_ratings_data \u001b[39m=\u001b[39m classment\u001b[39m.\u001b[39;49mget_average_ratings()\n",
      "\u001b[0;31mAttributeError\u001b[0m: 'Classement' object has no attribute 'get_average_ratings'"
     ]
    }
   ],
   "source": [
    "from data_prep import DataProcessor, Classement\n",
    "data_path = '/Users/camille/repo/Hetic/projet_gouv/scraping/Data/google_reviews.csv'\n",
    "\n",
    "columns = ['date', 'rate', 'review_text', 'object_address']\n",
    "\n",
    "processor = DataProcessor(data_path)\n",
    "processor.process_data(columns)\n",
    "data = processor.data\n",
    "#Load data2\n",
    "location_path = '/Users/camille/repo/Hetic/projet_gouv/scraping/Data/location.csv'\n",
    "# Vous pouvez accéder aux données transformées via l'attribut `data` de l'objet `proc ssor`\n",
    "\n",
    "\n",
    "classment = Classement(data_path, location_path)\n",
    "classment.load_data()\n",
    "classment.load_location_data()\n",
    "average_ratings_data = classment.get_average_ratings()\n",
    "\n"
   ]
  },
  {
   "cell_type": "code",
   "execution_count": 50,
   "metadata": {},
   "outputs": [
    {
     "ename": "AttributeError",
     "evalue": "'Classement' object has no attribute 'get_average_ratings'",
     "output_type": "error",
     "traceback": [
      "\u001b[0;31m---------------------------------------------------------------------------\u001b[0m",
      "\u001b[0;31mAttributeError\u001b[0m                            Traceback (most recent call last)",
      "Cell \u001b[0;32mIn[50], line 4\u001b[0m\n\u001b[1;32m      2\u001b[0m classment\u001b[39m.\u001b[39mload_data()\n\u001b[1;32m      3\u001b[0m classment\u001b[39m.\u001b[39mload_location_data()\n\u001b[0;32m----> 4\u001b[0m average_ratings_data \u001b[39m=\u001b[39m classment\u001b[39m.\u001b[39;49mget_average_ratings()\n",
      "\u001b[0;31mAttributeError\u001b[0m: 'Classement' object has no attribute 'get_average_ratings'"
     ]
    }
   ],
   "source": [
    "classment = Classement(data_path, location_path)\n",
    "classment.load_data()\n",
    "classment.load_location_data()\n",
    "average_ratings_data = classment.get_average_ratings()\n"
   ]
  },
  {
   "cell_type": "code",
   "execution_count": null,
   "metadata": {},
   "outputs": [],
   "source": [
    "from geopy.geocoders import Nominatim\n",
    "import pandas as pd\n",
    "data = pd.read_csv('/Users/camille/repo/Hetic/projet_gouv/scraping/Data/google_reviews.csv')\n",
    "\n",
    "geolocator = Nominatim(user_agent=\"my_app\")  # Remplacez \"my_app\" par le nom de votre application\n",
    "\n",
    "addresses = [\"Adresse 1\", \"Adresse 2\", \"Adresse 3\"]  # Remplacez ces adresses par les vôtres\n",
    "\n",
    "for address in addresses:\n",
    "    location = geolocator.geocode(address)\n",
    "    if location is not None:\n",
    "        latitude = location.latitude\n",
    "        longitude = location.longitude\n",
    "        print(f\"Adresse: {address}, Latitude: {latitude}, Longitude: {longitude}\")\n",
    "    else:\n",
    "        print(f\"Impossible de trouver les coordonnées pour l'adresse: {address}\")\n"
   ]
  }
 ],
 "metadata": {
  "kernelspec": {
   "display_name": "clean_data_env",
   "language": "python",
   "name": "python3"
  },
  "language_info": {
   "codemirror_mode": {
    "name": "ipython",
    "version": 3
   },
   "file_extension": ".py",
   "mimetype": "text/x-python",
   "name": "python",
   "nbconvert_exporter": "python",
   "pygments_lexer": "ipython3",
   "version": "3.10.2"
  },
  "orig_nbformat": 4
 },
 "nbformat": 4,
 "nbformat_minor": 2
}
