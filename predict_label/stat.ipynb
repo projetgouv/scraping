{
 "cells": [
  {
   "cell_type": "code",
   "execution_count": 1,
   "metadata": {},
   "outputs": [],
   "source": [
    "import pandas as pd\n",
    "df = pd.read_csv('/Users/camille/repo/Hetic/projet_gouv/scraping/predict_label/df.csv')\n",
    "percentage_neg_info_predicted = df['neg_info_predicted'].sum() / len(df['neg_info_predicted'])*100\n",
    "percentage_pos_info_predicted = df['pos_info_predicted'].sum() / len(df['pos_info_predicted'])*100\n",
    "percentage_neutre_info_predicted = df['neutre_info_predicted'].sum() / len(df['neutre_info_predicted'])*100\n",
    "percentage_unknow_info_predicted = df['unknow_info_predicted'].sum() / len(df['unknow_info_predicted'])*100\n",
    "percentage_pos_access_predicted = df['pos_access_predicted'].sum() / len(df['pos_access_predicted'])*100\n",
    "percentage_neg_access_predicted = df['neg_access_predicted'].sum() / len(df['neg_access_predicted'])*100\n",
    "percentage_neutre_access_predicted = df['neutre_access_predicted'].sum() / len(df['neutre_access_predicted'])*100\n",
    "percentage_unknow_access_predicted = df['unknow_access_predicted'].sum() / len(df['unknow_access_predicted'])*100\n",
    "\n",
    "perceentage_pos_relation_predicted = df['pos_relation_predicted'].sum() / len(df['pos_relation_predicted'])*100\n",
    "percentage_neg_relation_predicted = df['neg_relation_predicted'].sum() / len(df['neg_relation_predicted'])*100\n",
    "percentage_neutre_relation_predicted = df['neutre_relation_predicted'].sum() / len(df['neutre_relation_predicted'])*100\n",
    "percentage_unknow_relation_predicted = df['unknow_relation_predicted'].sum() / len(df['unknow_relation_predicted'])*100\n",
    "\n",
    "percentage_pos_reactivite_predicted = df['pos_reactivite_predicted'].sum() / len(df['pos_reactivite_predicted'])*100\n",
    "percentage_neg_reactivite_predicted = df['neg_reactivite_predicted'].sum() / len(df['neg_reactivite_predicted'])*100\n",
    "percentage_neutre_reactivite_predicted = df['neutre_reactivite_predicted'].sum() / len(df['neutre_reactivite_predicted'])*100\n",
    "percentage_unknow_reactivite_predicted = df['unknow_reactivite_predicted'].sum() / len(df['unknow_reactivite_predicted'])*100\n",
    "\n",
    "percentage_pos_simplicite_predicted = df['pos_simplicite_predicted'].sum() / len(df['pos_simplicite_predicted'])*100\n",
    "percentage_neg_simplicite_predicted = df['neg_simplicite_predicted'].sum() / len(df['neg_simplicite_predicted'])*100\n",
    "percentage_neutre_simplicite_predicted = df['neutre_simplicite_predicted'].sum() / len(df['neutre_simplicite_predicted'])*100\n",
    "percentage_unknow_simplicite_predicted = df['unknow_simplicite_predicted'].sum() / len(df['unknow_simplicite_predicted'])*100"
   ]
  },
  {
   "cell_type": "code",
   "execution_count": 8,
   "metadata": {},
   "outputs": [
    {
     "data": {
      "text/plain": [
       "Index(['rate', 'review_text', 'object_address', 'cleaned_text', 'sentiment',\n",
       "       'pos_info_predicted', 'neg_info_predicted', 'neutre_info_predicted',\n",
       "       'unknown_info_predicted', 'pos_access_predicted',\n",
       "       'neg_access_predicted', 'neutre_access_predicted',\n",
       "       'unknown_access_predicted', 'pos_relation_predicted',\n",
       "       'neg_relation_predicted', 'neutre_relation_predicted',\n",
       "       'unknown_relation_predicted', 'pos_reactivite_predicted',\n",
       "       'neg_reactivite_predicted', 'neutre_reactivite_predicted',\n",
       "       'unknown_reactivite_predicted', 'pos_simplicite_predicted',\n",
       "       'neg_simplicite_predicted', 'neutre_simplicite_predicted',\n",
       "       'unknown_simplicite_predicted'],\n",
       "      dtype='object')"
      ]
     },
     "execution_count": 8,
     "metadata": {},
     "output_type": "execute_result"
    }
   ],
   "source": [
    "df.columns"
   ]
  },
  {
   "cell_type": "code",
   "execution_count": 10,
   "metadata": {},
   "outputs": [],
   "source": [
    "percentage_neg_info_predicted = df['neg_info_predicted'].sum() / len(df['neg_info_predicted'])*100\n",
    "percentage_pos_info_predicted = df['pos_info_predicted'].sum() / len(df['pos_info_predicted'])*100\n",
    "percentage_neutre_info_predicted = df['neutre_info_predicted'].sum() / len(df['neutre_info_predicted'])*100\n",
    "#percentage_unknow_info_predicted = df['unknow_info_predicted'].sum() / len(df['unknow_info_predicted'])*100\n",
    "percentage_pos_access_predicted = df['pos_access_predicted'].sum() / len(df['pos_access_predicted'])*100\n",
    "percentage_neg_access_predicted = df['neg_access_predicted'].sum() / len(df['neg_access_predicted'])*100\n",
    "percentage_neutre_access_predicted = df['neutre_access_predicted'].sum() / len(df['neutre_access_predicted'])*100\n",
    "#percentage_unknow_access_predicted = df['unknow_access_predicted'].sum() / len(df['unknow_access_predicted'])*100\n",
    "\n",
    "perceentage_pos_relation_predicted = df['pos_relation_predicted'].sum() / len(df['pos_relation_predicted'])*100\n",
    "percentage_neg_relation_predicted = df['neg_relation_predicted'].sum() / len(df['neg_relation_predicted'])*100\n",
    "percentage_neutre_relation_predicted = df['neutre_relation_predicted'].sum() / len(df['neutre_relation_predicted'])*100\n",
    "#percentage_unknow_relation_predicted = df['unknow_relation_predicted'].sum() / len(df['unknow_relation_predicted'])*100\n",
    "\n",
    "percentage_pos_reactivite_predicted = df['pos_reactivite_predicted'].sum() / len(df['pos_reactivite_predicted'])*100\n",
    "percentage_neg_reactivite_predicted = df['neg_reactivite_predicted'].sum() / len(df['neg_reactivite_predicted'])*100\n",
    "percentage_neutre_reactivite_predicted = df['neutre_reactivite_predicted'].sum() / len(df['neutre_reactivite_predicted'])*100\n",
    "#percentage_unknow_reactivite_predicted = df['unknow_reactivite_predicted'].sum() / len(df['unknow_reactivite_predicted'])*100\n",
    "\n",
    "percentage_pos_simplicite_predicted = df['pos_simplicite_predicted'].sum() / len(df['pos_simplicite_predicted'])*100\n",
    "percentage_neg_simplicite_predicted = df['neg_simplicite_predicted'].sum() / len(df['neg_simplicite_predicted'])*100\n",
    "percentage_neutre_simplicite_predicted = df['neutre_simplicite_predicted'].sum() / len(df['neutre_simplicite_predicted'])*100\n",
    "#percentage_unknow_simplicite_predicted = df['unknow_simplicite_predicted'].sum() / len(df['unknow_simplicite_predicted'])*100"
   ]
  },
  {
   "cell_type": "code",
   "execution_count": 11,
   "metadata": {},
   "outputs": [
    {
     "name": "stdout",
     "output_type": "stream",
     "text": [
      "percentage_neg_info_predicted 2.7024140140995514\n",
      "percentage_pos_info_predicted 2.969450972014527\n",
      "percentage_neutre_info_predicted 0.0\n",
      "percentage_pos_access_predicted 7.412945951719719\n",
      "percentage_neg_access_predicted 45.30014954069643\n",
      "percentage_neutre_access_predicted 0.0\n",
      "perceentage_pos_relation_predicted 12.027344584490493\n",
      "percentage_neg_relation_predicted 0.3204443494979705\n",
      "percentage_neutre_relation_predicted 0.0\n",
      "percentage_pos_reactivite_predicted 0.7156590472121342\n",
      "percentage_neg_reactivite_predicted 2.659688100833155\n",
      "percentage_neutre_reactivite_predicted 0.0\n",
      "percentage_pos_simplicite_predicted 1.826532792138432\n",
      "percentage_neg_simplicite_predicted 7.690664387951293\n",
      "percentage_neutre_simplicite_predicted 0.0\n"
     ]
    }
   ],
   "source": [
    "# print all percentage\n",
    "print('percentage_neg_info_predicted', percentage_neg_info_predicted)\n",
    "print('percentage_pos_info_predicted', percentage_pos_info_predicted)\n",
    "print('percentage_neutre_info_predicted', percentage_neutre_info_predicted)\n",
    "#print('percentage_unknow_info_predicted', percentage_unknow_info_predicted)\n",
    "print('percentage_pos_access_predicted', percentage_pos_access_predicted)\n",
    "print('percentage_neg_access_predicted', percentage_neg_access_predicted)\n",
    "print('percentage_neutre_access_predicted', percentage_neutre_access_predicted)\n",
    "#print('percentage_unknow_access_predicted', percentage_unknow_access_predicted)\n",
    "print('perceentage_pos_relation_predicted', perceentage_pos_relation_predicted)\n",
    "print('percentage_neg_relation_predicted', percentage_neg_relation_predicted)\n",
    "print('percentage_neutre_relation_predicted', percentage_neutre_relation_predicted)\n",
    "#print('percentage_unknow_relation_predicted', percentage_unknow_relation_predicted)\n",
    "print('percentage_pos_reactivite_predicted', percentage_pos_reactivite_predicted)\n",
    "print('percentage_neg_reactivite_predicted', percentage_neg_reactivite_predicted)\n",
    "print('percentage_neutre_reactivite_predicted', percentage_neutre_reactivite_predicted)\n",
    "#print('percentage_unknow_reactivite_predicted', percentage_unknow_reactivite_predicted)\n",
    "print('percentage_pos_simplicite_predicted', percentage_pos_simplicite_predicted)\n",
    "print('percentage_neg_simplicite_predicted', percentage_neg_simplicite_predicted)\n",
    "print('percentage_neutre_simplicite_predicted', percentage_neutre_simplicite_predicted)\n",
    "#print('percentage_unknow_simplicite_predicted', percentage_unknow_simplicite_predicted)\n"
   ]
  }
 ],
 "metadata": {
  "kernelspec": {
   "display_name": "gouv_env",
   "language": "python",
   "name": "python3"
  },
  "language_info": {
   "codemirror_mode": {
    "name": "ipython",
    "version": 3
   },
   "file_extension": ".py",
   "mimetype": "text/x-python",
   "name": "python",
   "nbconvert_exporter": "python",
   "pygments_lexer": "ipython3",
   "version": "3.10.2"
  },
  "orig_nbformat": 4
 },
 "nbformat": 4,
 "nbformat_minor": 2
}
