{
 "cells": [
  {
   "cell_type": "code",
   "execution_count": 1,
   "metadata": {},
   "outputs": [],
   "source": [
    "import pandas as pd\n",
    "df1 = pd.read_csv('Data/rec.csv', sep=';')"
   ]
  },
  {
   "cell_type": "code",
   "execution_count": 34,
   "metadata": {},
   "outputs": [
    {
     "name": "stdout",
     "output_type": "stream",
     "text": [
      "144 Rue de Bavay, Réseau des rectorats et DSDEN, Rectorat, RECTORAT DE L'ACADEMIE DE LILLE, LILLE\n",
      "['J’ai travaillé en collège en juin et juillet 2022, depuis le 3 janvier je réclame mon certificat de travail (qui aurait du être envoyé à la fin de mon contrat, c’est une obligation) et depuis le 3 janvier on se moque clairement de moi et je n’ai toujours pas ce document alors que j’en ai absolument besoin. Je ne sais plus quoi faire, il est temps d’apprendre à faire votre travail! ', 'J’ai du à appeler 4 fois des l’ouverture du standard mais une fois décroché la dame a l’accueil a était super gentil et la dirigé vers son collègue qui m’a correctement renseigné tout en étant poli et agréable. Encore merci ☺️ ', \"Toutes mes condoléances à la famille de ce jeune homme. Aucun mot, de la colère et des larmes suite à la gestion d'urgence vitale inacceptable au Lycée Gaston Berger de Lille. Veuillez prendre toutes les mesures nécessaires dans le cadre d'une enquête administrative et mesures adéquates sur l'encadrement et la santé de nos enfants... \", 'On ne peut jamais généraliser. Certains employés au Rectorat sont très gentils et professionnels. Mais on a le sentiment qu’ils sont là pour compenser les manquements de certains. Je confirme certains avis : on s’est déjà moqué de moi alors que j’attendais une attestation urgente parce que j’étais contractuelle, on m’a déjà menacée quand j’étais TZR pour me forcer à prendre un poste. Certains sont aigris et méchants, ils oublient qu’ils gèrent de l’humain. ', \"Je vous écris ici parce que apparemment les avis sont vus plus vite que la lumière du jour.\\nJe vous conseille d'aller voir la direction de l'école francois villon à Roubaix qui niveau organisation est apparemment bien perdu et se permet de donner une mauvaise image à mon fils de 3ans à sa nouvelle école vous Trouvez ça normal non c'est de l'acharnement pur et dur et avec l'hypocrisie qui suit sont court l'éducation nationale à bien changer avec le temps ! \", 'Très grand manque de respect au téléphone de la part de plusieurs personnes. Les agents sont agressifs, une dame m\\'a raccroché au nez en disant juste avant \"vous avez l\\'air de savoir beaucoup de choses donc débrouillez vous, je ne vous passerai personne\" juste après lui avoir demandé un supérieur au vu du ton employé, et son collègue juste apres (présent au bureau au moment de notre appel, sinon ce n\\'est pas drôle), me dit qu\\'elle n\\'a pas raccroché et que je les dérange car il voudrait déjeuner tout en me narguant et en me disant \"vous mettrez ca aussi dans le courrier que vous nous adresserez pour réclamation!\" Pardon ? C\\'est quoi ce manque de respect ? Ou est le professionnalisme ? Ou est l\\'humain ? La politesse et le respect sont à revoir ! Se justifier de ce manque de respect en me disant que c\\'est parce qu\\'on a 50000 dossiers à traiter ce n\\'est pas possible à entendre. Honnêtement je confirme certains avis négatifs plus bas. Je précise que tout ça car on ne voulait pas de mon relevé de carrière. Comment fait-on quand on est pas en possession de ses contrats ? On agresse les gens à notre tour ? Et bien non. ', \"Au téléphone ce matin pour m'inscrire à un examin, personne au téléphone désagréable qui me dit ne pas avoir le temps de me répondre... Donc je reste sans réponse. Quel professionnalisme ! \", '21 octobre, toujours pas reçu le salaire de septembre. J’appelle tous les numéros chaque jour, sans réponse … ', 'UN JUGEMENT DOIT ETRE RESPECTER ET N EST PAS VALABLE QU UN AN, REVOYER LES LOIS ', 'D’une totale incompétence, je passe mon CAP chocolaterie en candidat libre, je reçois ma convocation 2 semaines avant l’examen, avec une adresse qui donne sur un supermarché… je les appels la dame pas plus inquiète que ça  me dit qu’ils se sont trompé et que l’examen ce passe à 10km de l’adresse écrite sur la convocation. Heureusement que je m’en rend compte… je me serais retrouvé sur le parking du supermarché pour mon examen… j’espère tout de même qu’ils vont prévenir les autres candidats… sans parler de l’épreuve EP2AB qui dure 9h30 et commence à 14h… cela veut dire que si je suis la convocation je fini mon épreuve à 23h30. Au top de quoi être très rassuré avant le passage d’un examen ! ']\n"
     ]
    }
   ],
   "source": [
    "from selenium import webdriver\n",
    "from selenium.webdriver.common.keys import Keys\n",
    "from selenium.webdriver.chrome.service import Service\n",
    "from selenium.webdriver.common.by import By\n",
    "from bs4 import BeautifulSoup\n",
    "import time\n",
    "class GoogleMaps:\n",
    "    def __init__(self):\n",
    "        # Remplacez le chemin vers le driver de votre navigateur\n",
    "        driver_path = 'chromedriver'\n",
    "        service = Service(executable_path=driver_path)\n",
    "        self.driver = webdriver.Chrome(service=service)\n",
    "\n",
    "    def search_location(self, location):\n",
    "        # Ouvrir Google Maps\n",
    "        self.driver.get('https://www.google.com/maps/')\n",
    "        skip = self.driver.find_element(By.XPATH, '//*[@id=\"yDmH0d\"]/c-wiz/div/div/div/div[2]/div[1]/div[3]/div[1]/div[1]/form[1]/div/div/button/span').click()\n",
    "        search_box = self.driver.find_element(By.XPATH, '//*[@id=\"searchboxinput\"]')\n",
    "        search_box.send_keys(location)\n",
    "        search_box.send_keys(Keys.ENTER)\n",
    "        time.sleep(2)\n",
    "        search_box.find_element(By.XPATH,'//*[@id=\"QA0Szd\"]/div/div/div[1]/div[2]/div/div[1]/div/div/div[3]/div/div/button[2]/div[2]/div[2]').click()\n",
    "        time.sleep(2)\n",
    "        for i in range(1, 101):\n",
    "            xpath = f'/html/body/div[3]/div[9]/div[9]/div/div/div[1]/div[2]/div/div[1]/div/div/div[3]/div[10]/div[{i}]/div/div/div[4]/div[2]/div/span[2]/button'\n",
    "            try:\n",
    "                search_box.find_element(By.XPATH, xpath).click()\n",
    "            except:\n",
    "                pass\n",
    "\n",
    "\n",
    "\n",
    "class TextInformation:\n",
    "    def __init__(self, url):\n",
    "        self.url = url\n",
    "        self.soup = BeautifulSoup(\n",
    "            url.page_source,\n",
    "            'html.parser',@@@\n",
    "            from_encoding='utf-8')\n",
    "\n",
    "    def get_name(self):\n",
    "        elements = self.soup.select(\"div.m6QErb div.MyEned\")\n",
    "        names = [elem.text for elem in elements]\n",
    "        return names\n",
    "\n",
    "maps = GoogleMaps()\n",
    "for row in df1.iterrows():\n",
    "    location = row[1]['GM_search']\n",
    "    print(location)\n",
    "    maps.search_location(location)\n",
    "    text_info = TextInformation(maps.driver).get_name()\n",
    "    print(text_info)"
   ]
  },
  {
   "cell_type": "code",
   "execution_count": 1,
   "metadata": {},
   "outputs": [
    {
     "name": "stdout",
     "output_type": "stream",
     "text": [
      "Hello 1\n",
      "Hello 2\n",
      "Hello 3\n",
      "Hello 4\n",
      "Hello 5\n",
      "Hello 6\n",
      "Hello 7\n",
      "Hello 8\n",
      "Hello 9\n"
     ]
    }
   ],
   "source": [
    "/html/body/div[3]/div[9]/div[9]/div/div/div[1]/div[2]/div/div[1]/div/div/div[3]/div[10]/div[10]/div/div/div[4]/div[2]/div/span[2]/button\n",
    "/html/body/div[3]/div[9]/div[9]/div/div/div[1]/div[2]/div/div[1]/div/div/div[3]/div[10]/div[13]/div/div/div[4]/div[2]/div/span[2]/button\n",
    "/html/body/div[3]/div[9]/div[9]/div/div/div[1]/div[2]/div/div[1]/div/div/div[3]/div[10]/div[10]/div/div/div[4]/div[2]/div/span[2]/button``\n",
    "/html/body/div[3]/div[9]/div[9]/div/div/div[1]/div[2]/div/div[1]/div/div/div[3]/div[10]/div[16]/div/div/div[4]/div[2]/div/span[2]/button\n",
    "/html/body/div[3]/div[9]/div[9]/div/div/div[1]/div[2]/div/div[1]/div/div/div[3]/div[10]/div[31]/div/div/div[4]/div[2]/div/span[2]/button\n",
    "/html/body/div[3]/div[9]/div[9]/div/div/div[1]/div[2]/div/div[1]/div/div/div[3]/div[10]/div[28]/div/div/div[4]/div[2]/div/span[2]/button\n",
    "/html/body/div[3]/div[9]/div[9]/div/div/div[1]/div[2]/div/div[1]/div/div/div[3]/div[10]/div[31]/div/div/div[4]/div[2]/div/span[2]/button\n",
    "/html/body/div[3]/div[9]/div[9]/div/div/div[1]/div[2]/div/div[1]/div/div/div[3]/div[10]/div[31]/div/div/div[4]/div[2]/div/span[2]/button\n",
    "/html/body/div[3]/div[9]/div[9]/div/div/div[1]/div[2]/div/div[1]/div/div/div[3]/div[10]/div[10]/div/div/div[4]/div[2]/div/span[2]/button\n",
    "/html/body/div[3]/div[9]/div[9]/div/div/div[1]/div[2]/div/div[1]/div/div/div[3]/div[10]/div[31]/div/div/div[4]/div[2]/div/span[2]/button"
   ]
  }
 ],
 "metadata": {
  "kernelspec": {
   "display_name": "gouv_env",
   "language": "python",
   "name": "python3"
  },
  "language_info": {
   "codemirror_mode": {
    "name": "ipython",
    "version": 3
   },
   "file_extension": ".py",
   "mimetype": "text/x-python",
   "name": "python",
   "nbconvert_exporter": "python",
   "pygments_lexer": "ipython3",
   "version": "3.10.2"
  },
  "orig_nbformat": 4
 },
 "nbformat": 4,
 "nbformat_minor": 2
}
