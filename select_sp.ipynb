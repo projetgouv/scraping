{
 "cells": [
  {
   "cell_type": "code",
   "execution_count": 1,
   "metadata": {},
   "outputs": [],
   "source": [
    "import pandas as pd"
   ]
  },
  {
   "cell_type": "code",
   "execution_count": 2,
   "metadata": {},
   "outputs": [],
   "source": [
    "data = pd.read_csv('/Users/camille/repo/Hetic/projet_gouv/scraping/Data/export-structures.csv', sep=';')"
   ]
  },
  {
   "cell_type": "code",
   "execution_count": 24,
   "metadata": {},
   "outputs": [],
   "source": [
    "PE_PARIS = data[(data['Intitulé du réseau'] == 'POLE EMPLOI') & (data['Actif'] == 'Oui') & data['Ville'].str.startswith('PARIS')]\n"
   ]
  },
  {
   "cell_type": "code",
   "execution_count": 19,
   "metadata": {},
   "outputs": [],
   "source": [
    "data_pole.to_csv('/Users/camille/repo/Hetic/projet_gouv/scraping/Data/pole_emploi.csv', sep=';')"
   ]
  },
  {
   "cell_type": "code",
   "execution_count": 26,
   "metadata": {},
   "outputs": [],
   "source": [
    "PE_PARIS.to_csv('/Users/camille/repo/Hetic/projet_gouv/scraping/Data/pole_emploi_paris.csv', sep=';')"
   ]
  },
  {
   "cell_type": "code",
   "execution_count": 27,
   "metadata": {},
   "outputs": [
    {
     "name": "stderr",
     "output_type": "stream",
     "text": [
      "/var/folders/vh/yn_93j315gn6jdvz7f2d73_m0000gn/T/ipykernel_46441/713536697.py:1: SettingWithCopyWarning: \n",
      "A value is trying to be set on a copy of a slice from a DataFrame.\n",
      "Try using .loc[row_indexer,col_indexer] = value instead\n",
      "\n",
      "See the caveats in the documentation: https://pandas.pydata.org/pandas-docs/stable/user_guide/indexing.html#returning-a-view-versus-a-copy\n",
      "  PE_PARIS['search'] =  PE_PARIS['Intitulé du réseau'] + ' ' + PE_PARIS['Ville']  + ' ' + PE_PARIS['Intitulé de la structure']\n"
     ]
    }
   ],
   "source": [
    "PE_PARIS['search'] =  PE_PARIS['Intitulé du réseau'] + ' ' + PE_PARIS['Ville']  + ' ' + PE_PARIS['Intitulé de la structure'] "
   ]
  },
  {
   "cell_type": "code",
   "execution_count": 29,
   "metadata": {},
   "outputs": [],
   "source": [
    "PE_PARIS.to_csv('/Users/camille/repo/Hetic/projet_gouv/scraping/Data/pole_emploi_paris.csv', sep=';')"
   ]
  },
  {
   "attachments": {},
   "cell_type": "markdown",
   "metadata": {},
   "source": [
    "PE_PARIS"
   ]
  }
 ],
 "metadata": {
  "kernelspec": {
   "display_name": "gouv_env",
   "language": "python",
   "name": "python3"
  },
  "language_info": {
   "codemirror_mode": {
    "name": "ipython",
    "version": 3
   },
   "file_extension": ".py",
   "mimetype": "text/x-python",
   "name": "python",
   "nbconvert_exporter": "python",
   "pygments_lexer": "ipython3",
   "version": "3.10.2"
  },
  "orig_nbformat": 4
 },
 "nbformat": 4,
 "nbformat_minor": 2
}
