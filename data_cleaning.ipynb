{
 "cells": [
  {
   "cell_type": "code",
   "execution_count": 306,
   "metadata": {},
   "outputs": [],
   "source": [
    "import pandas  as pd\n",
    "from datetime import datetime\n",
    "from dateutil.relativedelta import relativedelta\n",
    "col = ['date', 'rate', 'review_text', 'object_address']\n",
    "path = '/Users/camille/repo/Hetic/projet_gouv/scraping/Data/google_reviews.csv'\n",
    "data =pd.read_csv(path, usecols=col)\n",
    "\n",
    "data['date'] = data['date'].replace('a year ago', '1 year ago')\n",
    "data['date'] = data['date'].replace('a month ago','1 month ago')\n",
    "data['date'] = data['date'].replace('a week ago','1 week ago')\n",
    "\n",
    "current_datetime = datetime.now()\n",
    "data['date'] = data['date'].apply(lambda x: current_datetime - relativedelta(years=int(x.split()[0])) if 'year' in x\n",
    "                                     else current_datetime - relativedelta(months=int(x.split()[0])) if 'month' in x\n",
    "                                     else current_datetime - relativedelta(weeks=int(x.split()[0])) if 'week' in x\n",
    "                                     else current_datetime - relativedelta(days=int(x.split()[0])) if 'day' in x\n",
    "                                     else None)\n",
    "\n",
    "\n",
    "\n",
    "# Extraire uniquement la partie de la date\n",
    "data['date'] = data['date'].apply(lambda x: x.date())\n"
   ]
  },
  {
   "cell_type": "code",
   "execution_count": 147,
   "metadata": {},
   "outputs": [],
   "source": [
    "col = ['date', 'rate', 'review_text', 'object_address']"
   ]
  },
  {
   "cell_type": "code",
   "execution_count": 148,
   "metadata": {},
   "outputs": [],
   "source": [
    "path = '/Users/camille/repo/Hetic/projet_gouv/scraping/Data/google_reviews.csv'\n",
    "data =pd.read_csv(path, usecols=col)\n"
   ]
  },
  {
   "cell_type": "code",
   "execution_count": 149,
   "metadata": {},
   "outputs": [],
   "source": [
    "\n",
    "data['date'] = data['date'].replace('a year ago', '1 year ago')\n",
    "data['date'] = data['date'].replace('a month ago','1 month ago')\n",
    "data['date'] = data['date'].replace('a week ago','1 week ago')\n",
    "\n",
    "current_datetime = datetime.now()\n",
    "data['date'] = data['date'].apply(lambda x: current_datetime - relativedelta(years=int(x.split()[0])) if 'year' in x\n",
    "                                     else current_datetime - relativedelta(months=int(x.split()[0])) if 'month' in x\n",
    "                                     else current_datetime - relativedelta(weeks=int(x.split()[0])) if 'week' in x\n",
    "                                     else current_datetime - relativedelta(days=int(x.split()[0])) if 'day' in x\n",
    "                                     else None)\n",
    "\n",
    "\n",
    "\n",
    "# Extraire uniquement la partie de la date\n",
    "data['date'] = data['date'].apply(lambda x: x.date())\n"
   ]
  },
  {
   "cell_type": "code",
   "execution_count": 315,
   "metadata": {},
   "outputs": [
    {
     "data": {
      "text/html": [
       "<div>\n",
       "<style scoped>\n",
       "    .dataframe tbody tr th:only-of-type {\n",
       "        vertical-align: middle;\n",
       "    }\n",
       "\n",
       "    .dataframe tbody tr th {\n",
       "        vertical-align: top;\n",
       "    }\n",
       "\n",
       "    .dataframe thead th {\n",
       "        text-align: right;\n",
       "    }\n",
       "</style>\n",
       "<table border=\"1\" class=\"dataframe\">\n",
       "  <thead>\n",
       "    <tr style=\"text-align: right;\">\n",
       "      <th></th>\n",
       "      <th>date</th>\n",
       "      <th>rate</th>\n",
       "      <th>review_text</th>\n",
       "      <th>object_address</th>\n",
       "    </tr>\n",
       "  </thead>\n",
       "  <tbody>\n",
       "    <tr>\n",
       "      <th>0</th>\n",
       "      <td>2017-05-21</td>\n",
       "      <td>5</td>\n",
       "      <td>Perfect service! The team is so professional. ...</td>\n",
       "      <td>10 Rue Brancion, 75015 Paris</td>\n",
       "    </tr>\n",
       "    <tr>\n",
       "      <th>1</th>\n",
       "      <td>2023-03-21</td>\n",
       "      <td>1</td>\n",
       "      <td>Inadmissible et honteux tout simplement. Atten...</td>\n",
       "      <td>10 Rue Brancion, 75015 Paris</td>\n",
       "    </tr>\n",
       "    <tr>\n",
       "      <th>2</th>\n",
       "      <td>2023-01-21</td>\n",
       "      <td>2</td>\n",
       "      <td>Accueilli par une personne féminine d'un âge c...</td>\n",
       "      <td>10 Rue Brancion, 75015 Paris</td>\n",
       "    </tr>\n",
       "    <tr>\n",
       "      <th>3</th>\n",
       "      <td>2023-05-07</td>\n",
       "      <td>1</td>\n",
       "      <td>Je suis Hassan Bashir, j'ai besoin de rendez-v...</td>\n",
       "      <td>10 Rue Brancion, 75015 Paris</td>\n",
       "    </tr>\n",
       "    <tr>\n",
       "      <th>4</th>\n",
       "      <td>2022-05-21</td>\n",
       "      <td>1</td>\n",
       "      <td>De loin la pire agence.\\nD'une incompétence sa...</td>\n",
       "      <td>10 Rue Brancion, 75015 Paris</td>\n",
       "    </tr>\n",
       "    <tr>\n",
       "      <th>...</th>\n",
       "      <td>...</td>\n",
       "      <td>...</td>\n",
       "      <td>...</td>\n",
       "      <td>...</td>\n",
       "    </tr>\n",
       "    <tr>\n",
       "      <th>672</th>\n",
       "      <td>2017-05-21</td>\n",
       "      <td>5</td>\n",
       "      <td>NaN</td>\n",
       "      <td>9 Rue Friant, 75014 Paris</td>\n",
       "    </tr>\n",
       "    <tr>\n",
       "      <th>673</th>\n",
       "      <td>2019-05-21</td>\n",
       "      <td>4</td>\n",
       "      <td>NaN</td>\n",
       "      <td>9 Rue Friant, 75014 Paris</td>\n",
       "    </tr>\n",
       "    <tr>\n",
       "      <th>674</th>\n",
       "      <td>2018-05-21</td>\n",
       "      <td>1</td>\n",
       "      <td>NaN</td>\n",
       "      <td>9 Rue Friant, 75014 Paris</td>\n",
       "    </tr>\n",
       "    <tr>\n",
       "      <th>675</th>\n",
       "      <td>2022-10-21</td>\n",
       "      <td>1</td>\n",
       "      <td>NaN</td>\n",
       "      <td>9 Rue Friant, 75014 Paris</td>\n",
       "    </tr>\n",
       "    <tr>\n",
       "      <th>676</th>\n",
       "      <td>2018-05-21</td>\n",
       "      <td>2</td>\n",
       "      <td>NaN</td>\n",
       "      <td>9 Rue Friant, 75014 Paris</td>\n",
       "    </tr>\n",
       "  </tbody>\n",
       "</table>\n",
       "<p>677 rows × 4 columns</p>\n",
       "</div>"
      ],
      "text/plain": [
       "           date  rate                                        review_text   \n",
       "0    2017-05-21     5  Perfect service! The team is so professional. ...  \\\n",
       "1    2023-03-21     1  Inadmissible et honteux tout simplement. Atten...   \n",
       "2    2023-01-21     2  Accueilli par une personne féminine d'un âge c...   \n",
       "3    2023-05-07     1  Je suis Hassan Bashir, j'ai besoin de rendez-v...   \n",
       "4    2022-05-21     1  De loin la pire agence.\\nD'une incompétence sa...   \n",
       "..          ...   ...                                                ...   \n",
       "672  2017-05-21     5                                                NaN   \n",
       "673  2019-05-21     4                                                NaN   \n",
       "674  2018-05-21     1                                                NaN   \n",
       "675  2022-10-21     1                                                NaN   \n",
       "676  2018-05-21     2                                                NaN   \n",
       "\n",
       "                   object_address  \n",
       "0    10 Rue Brancion, 75015 Paris  \n",
       "1    10 Rue Brancion, 75015 Paris  \n",
       "2    10 Rue Brancion, 75015 Paris  \n",
       "3    10 Rue Brancion, 75015 Paris  \n",
       "4    10 Rue Brancion, 75015 Paris  \n",
       "..                            ...  \n",
       "672     9 Rue Friant, 75014 Paris  \n",
       "673     9 Rue Friant, 75014 Paris  \n",
       "674     9 Rue Friant, 75014 Paris  \n",
       "675     9 Rue Friant, 75014 Paris  \n",
       "676     9 Rue Friant, 75014 Paris  \n",
       "\n",
       "[677 rows x 4 columns]"
      ]
     },
     "execution_count": 315,
     "metadata": {},
     "output_type": "execute_result"
    }
   ],
   "source": [
    "data"
   ]
  },
  {
   "cell_type": "code",
   "execution_count": 14,
   "metadata": {},
   "outputs": [
    {
     "name": "stdout",
     "output_type": "stream",
     "text": [
      "Collecting plotly\n",
      "  Using cached plotly-5.14.1-py2.py3-none-any.whl (15.3 MB)\n",
      "Requirement already satisfied: packaging in ./clean_data_env/lib/python3.10/site-packages (from plotly) (23.1)\n",
      "Collecting tenacity>=6.2.0\n",
      "  Using cached tenacity-8.2.2-py3-none-any.whl (24 kB)\n",
      "Installing collected packages: tenacity, plotly\n",
      "Successfully installed plotly-5.14.1 tenacity-8.2.2\n",
      "\u001b[33mWARNING: You are using pip version 21.2.4; however, version 23.1.2 is available.\n",
      "You should consider upgrading via the '/Users/camille/repo/Hetic/projet_gouv/scraping/clean_data_env/bin/python3 -m pip install --upgrade pip' command.\u001b[0m\n"
     ]
    }
   ],
   "source": [
    "!pip install plotly"
   ]
  },
  {
   "cell_type": "code",
   "execution_count": 151,
   "metadata": {},
   "outputs": [],
   "source": [
    "import plotly.express as px\n",
    "#plot with date, number of reviews\n",
    "nb_reviews = data.groupby('date').count().reset_index() \n"
   ]
  },
  {
   "cell_type": "code",
   "execution_count": 152,
   "metadata": {},
   "outputs": [
    {
     "data": {
      "application/vnd.plotly.v1+json": {
       "config": {
        "plotlyServerURL": "https://plot.ly"
       },
       "data": [
        {
         "customdata": [
          [
           4,
           4
          ],
          [
           1,
           5
          ],
          [
           1,
           5
          ],
          [
           1,
           5
          ],
          [
           1,
           5
          ],
          [
           1,
           5
          ],
          [
           1,
           5
          ],
          [
           1,
           5
          ],
          [
           1,
           5
          ]
         ],
         "hovertemplate": "Année: %{x}<br>Nombre de reviews: %{y}<br>Note moyenne: %{text:.1f}<br>Note la plus basse: %{customdata[0]:.1f}<br>Note la plus haute: %{customdata[1]:.1f}",
         "legendgroup": "",
         "line": {
          "color": "#636efa",
          "dash": "solid"
         },
         "marker": {
          "symbol": "circle"
         },
         "mode": "markers+lines",
         "name": "",
         "orientation": "v",
         "showlegend": false,
         "text": [
          4,
          2.5294117647058822,
          2.4367816091954024,
          2.2142857142857144,
          2.6382978723404253,
          2.897727272727273,
          2.7204301075268815,
          2.947712418300654,
          1.9
         ],
         "textposition": "top center",
         "texttemplate": "%{text:.1f}",
         "type": "scatter",
         "x": [
          "2013",
          "2016",
          "2017",
          "2018",
          "2019",
          "2020",
          "2021",
          "2022",
          "2023"
         ],
         "xaxis": "x",
         "y": [
          1,
          17,
          87,
          84,
          94,
          88,
          93,
          153,
          60
         ],
         "yaxis": "y"
        }
       ],
       "layout": {
        "hovermode": "x unified",
        "legend": {
         "tracegroupgap": 0
        },
        "margin": {
         "t": 60
        },
        "template": {
         "data": {
          "bar": [
           {
            "error_x": {
             "color": "#2a3f5f"
            },
            "error_y": {
             "color": "#2a3f5f"
            },
            "marker": {
             "line": {
              "color": "#E5ECF6",
              "width": 0.5
             },
             "pattern": {
              "fillmode": "overlay",
              "size": 10,
              "solidity": 0.2
             }
            },
            "type": "bar"
           }
          ],
          "barpolar": [
           {
            "marker": {
             "line": {
              "color": "#E5ECF6",
              "width": 0.5
             },
             "pattern": {
              "fillmode": "overlay",
              "size": 10,
              "solidity": 0.2
             }
            },
            "type": "barpolar"
           }
          ],
          "carpet": [
           {
            "aaxis": {
             "endlinecolor": "#2a3f5f",
             "gridcolor": "white",
             "linecolor": "white",
             "minorgridcolor": "white",
             "startlinecolor": "#2a3f5f"
            },
            "baxis": {
             "endlinecolor": "#2a3f5f",
             "gridcolor": "white",
             "linecolor": "white",
             "minorgridcolor": "white",
             "startlinecolor": "#2a3f5f"
            },
            "type": "carpet"
           }
          ],
          "choropleth": [
           {
            "colorbar": {
             "outlinewidth": 0,
             "ticks": ""
            },
            "type": "choropleth"
           }
          ],
          "contour": [
           {
            "colorbar": {
             "outlinewidth": 0,
             "ticks": ""
            },
            "colorscale": [
             [
              0,
              "#0d0887"
             ],
             [
              0.1111111111111111,
              "#46039f"
             ],
             [
              0.2222222222222222,
              "#7201a8"
             ],
             [
              0.3333333333333333,
              "#9c179e"
             ],
             [
              0.4444444444444444,
              "#bd3786"
             ],
             [
              0.5555555555555556,
              "#d8576b"
             ],
             [
              0.6666666666666666,
              "#ed7953"
             ],
             [
              0.7777777777777778,
              "#fb9f3a"
             ],
             [
              0.8888888888888888,
              "#fdca26"
             ],
             [
              1,
              "#f0f921"
             ]
            ],
            "type": "contour"
           }
          ],
          "contourcarpet": [
           {
            "colorbar": {
             "outlinewidth": 0,
             "ticks": ""
            },
            "type": "contourcarpet"
           }
          ],
          "heatmap": [
           {
            "colorbar": {
             "outlinewidth": 0,
             "ticks": ""
            },
            "colorscale": [
             [
              0,
              "#0d0887"
             ],
             [
              0.1111111111111111,
              "#46039f"
             ],
             [
              0.2222222222222222,
              "#7201a8"
             ],
             [
              0.3333333333333333,
              "#9c179e"
             ],
             [
              0.4444444444444444,
              "#bd3786"
             ],
             [
              0.5555555555555556,
              "#d8576b"
             ],
             [
              0.6666666666666666,
              "#ed7953"
             ],
             [
              0.7777777777777778,
              "#fb9f3a"
             ],
             [
              0.8888888888888888,
              "#fdca26"
             ],
             [
              1,
              "#f0f921"
             ]
            ],
            "type": "heatmap"
           }
          ],
          "heatmapgl": [
           {
            "colorbar": {
             "outlinewidth": 0,
             "ticks": ""
            },
            "colorscale": [
             [
              0,
              "#0d0887"
             ],
             [
              0.1111111111111111,
              "#46039f"
             ],
             [
              0.2222222222222222,
              "#7201a8"
             ],
             [
              0.3333333333333333,
              "#9c179e"
             ],
             [
              0.4444444444444444,
              "#bd3786"
             ],
             [
              0.5555555555555556,
              "#d8576b"
             ],
             [
              0.6666666666666666,
              "#ed7953"
             ],
             [
              0.7777777777777778,
              "#fb9f3a"
             ],
             [
              0.8888888888888888,
              "#fdca26"
             ],
             [
              1,
              "#f0f921"
             ]
            ],
            "type": "heatmapgl"
           }
          ],
          "histogram": [
           {
            "marker": {
             "pattern": {
              "fillmode": "overlay",
              "size": 10,
              "solidity": 0.2
             }
            },
            "type": "histogram"
           }
          ],
          "histogram2d": [
           {
            "colorbar": {
             "outlinewidth": 0,
             "ticks": ""
            },
            "colorscale": [
             [
              0,
              "#0d0887"
             ],
             [
              0.1111111111111111,
              "#46039f"
             ],
             [
              0.2222222222222222,
              "#7201a8"
             ],
             [
              0.3333333333333333,
              "#9c179e"
             ],
             [
              0.4444444444444444,
              "#bd3786"
             ],
             [
              0.5555555555555556,
              "#d8576b"
             ],
             [
              0.6666666666666666,
              "#ed7953"
             ],
             [
              0.7777777777777778,
              "#fb9f3a"
             ],
             [
              0.8888888888888888,
              "#fdca26"
             ],
             [
              1,
              "#f0f921"
             ]
            ],
            "type": "histogram2d"
           }
          ],
          "histogram2dcontour": [
           {
            "colorbar": {
             "outlinewidth": 0,
             "ticks": ""
            },
            "colorscale": [
             [
              0,
              "#0d0887"
             ],
             [
              0.1111111111111111,
              "#46039f"
             ],
             [
              0.2222222222222222,
              "#7201a8"
             ],
             [
              0.3333333333333333,
              "#9c179e"
             ],
             [
              0.4444444444444444,
              "#bd3786"
             ],
             [
              0.5555555555555556,
              "#d8576b"
             ],
             [
              0.6666666666666666,
              "#ed7953"
             ],
             [
              0.7777777777777778,
              "#fb9f3a"
             ],
             [
              0.8888888888888888,
              "#fdca26"
             ],
             [
              1,
              "#f0f921"
             ]
            ],
            "type": "histogram2dcontour"
           }
          ],
          "mesh3d": [
           {
            "colorbar": {
             "outlinewidth": 0,
             "ticks": ""
            },
            "type": "mesh3d"
           }
          ],
          "parcoords": [
           {
            "line": {
             "colorbar": {
              "outlinewidth": 0,
              "ticks": ""
             }
            },
            "type": "parcoords"
           }
          ],
          "pie": [
           {
            "automargin": true,
            "type": "pie"
           }
          ],
          "scatter": [
           {
            "fillpattern": {
             "fillmode": "overlay",
             "size": 10,
             "solidity": 0.2
            },
            "type": "scatter"
           }
          ],
          "scatter3d": [
           {
            "line": {
             "colorbar": {
              "outlinewidth": 0,
              "ticks": ""
             }
            },
            "marker": {
             "colorbar": {
              "outlinewidth": 0,
              "ticks": ""
             }
            },
            "type": "scatter3d"
           }
          ],
          "scattercarpet": [
           {
            "marker": {
             "colorbar": {
              "outlinewidth": 0,
              "ticks": ""
             }
            },
            "type": "scattercarpet"
           }
          ],
          "scattergeo": [
           {
            "marker": {
             "colorbar": {
              "outlinewidth": 0,
              "ticks": ""
             }
            },
            "type": "scattergeo"
           }
          ],
          "scattergl": [
           {
            "marker": {
             "colorbar": {
              "outlinewidth": 0,
              "ticks": ""
             }
            },
            "type": "scattergl"
           }
          ],
          "scattermapbox": [
           {
            "marker": {
             "colorbar": {
              "outlinewidth": 0,
              "ticks": ""
             }
            },
            "type": "scattermapbox"
           }
          ],
          "scatterpolar": [
           {
            "marker": {
             "colorbar": {
              "outlinewidth": 0,
              "ticks": ""
             }
            },
            "type": "scatterpolar"
           }
          ],
          "scatterpolargl": [
           {
            "marker": {
             "colorbar": {
              "outlinewidth": 0,
              "ticks": ""
             }
            },
            "type": "scatterpolargl"
           }
          ],
          "scatterternary": [
           {
            "marker": {
             "colorbar": {
              "outlinewidth": 0,
              "ticks": ""
             }
            },
            "type": "scatterternary"
           }
          ],
          "surface": [
           {
            "colorbar": {
             "outlinewidth": 0,
             "ticks": ""
            },
            "colorscale": [
             [
              0,
              "#0d0887"
             ],
             [
              0.1111111111111111,
              "#46039f"
             ],
             [
              0.2222222222222222,
              "#7201a8"
             ],
             [
              0.3333333333333333,
              "#9c179e"
             ],
             [
              0.4444444444444444,
              "#bd3786"
             ],
             [
              0.5555555555555556,
              "#d8576b"
             ],
             [
              0.6666666666666666,
              "#ed7953"
             ],
             [
              0.7777777777777778,
              "#fb9f3a"
             ],
             [
              0.8888888888888888,
              "#fdca26"
             ],
             [
              1,
              "#f0f921"
             ]
            ],
            "type": "surface"
           }
          ],
          "table": [
           {
            "cells": {
             "fill": {
              "color": "#EBF0F8"
             },
             "line": {
              "color": "white"
             }
            },
            "header": {
             "fill": {
              "color": "#C8D4E3"
             },
             "line": {
              "color": "white"
             }
            },
            "type": "table"
           }
          ]
         },
         "layout": {
          "annotationdefaults": {
           "arrowcolor": "#2a3f5f",
           "arrowhead": 0,
           "arrowwidth": 1
          },
          "autotypenumbers": "strict",
          "coloraxis": {
           "colorbar": {
            "outlinewidth": 0,
            "ticks": ""
           }
          },
          "colorscale": {
           "diverging": [
            [
             0,
             "#8e0152"
            ],
            [
             0.1,
             "#c51b7d"
            ],
            [
             0.2,
             "#de77ae"
            ],
            [
             0.3,
             "#f1b6da"
            ],
            [
             0.4,
             "#fde0ef"
            ],
            [
             0.5,
             "#f7f7f7"
            ],
            [
             0.6,
             "#e6f5d0"
            ],
            [
             0.7,
             "#b8e186"
            ],
            [
             0.8,
             "#7fbc41"
            ],
            [
             0.9,
             "#4d9221"
            ],
            [
             1,
             "#276419"
            ]
           ],
           "sequential": [
            [
             0,
             "#0d0887"
            ],
            [
             0.1111111111111111,
             "#46039f"
            ],
            [
             0.2222222222222222,
             "#7201a8"
            ],
            [
             0.3333333333333333,
             "#9c179e"
            ],
            [
             0.4444444444444444,
             "#bd3786"
            ],
            [
             0.5555555555555556,
             "#d8576b"
            ],
            [
             0.6666666666666666,
             "#ed7953"
            ],
            [
             0.7777777777777778,
             "#fb9f3a"
            ],
            [
             0.8888888888888888,
             "#fdca26"
            ],
            [
             1,
             "#f0f921"
            ]
           ],
           "sequentialminus": [
            [
             0,
             "#0d0887"
            ],
            [
             0.1111111111111111,
             "#46039f"
            ],
            [
             0.2222222222222222,
             "#7201a8"
            ],
            [
             0.3333333333333333,
             "#9c179e"
            ],
            [
             0.4444444444444444,
             "#bd3786"
            ],
            [
             0.5555555555555556,
             "#d8576b"
            ],
            [
             0.6666666666666666,
             "#ed7953"
            ],
            [
             0.7777777777777778,
             "#fb9f3a"
            ],
            [
             0.8888888888888888,
             "#fdca26"
            ],
            [
             1,
             "#f0f921"
            ]
           ]
          },
          "colorway": [
           "#636efa",
           "#EF553B",
           "#00cc96",
           "#ab63fa",
           "#FFA15A",
           "#19d3f3",
           "#FF6692",
           "#B6E880",
           "#FF97FF",
           "#FECB52"
          ],
          "font": {
           "color": "#2a3f5f"
          },
          "geo": {
           "bgcolor": "white",
           "lakecolor": "white",
           "landcolor": "#E5ECF6",
           "showlakes": true,
           "showland": true,
           "subunitcolor": "white"
          },
          "hoverlabel": {
           "align": "left"
          },
          "hovermode": "closest",
          "mapbox": {
           "style": "light"
          },
          "paper_bgcolor": "white",
          "plot_bgcolor": "#E5ECF6",
          "polar": {
           "angularaxis": {
            "gridcolor": "white",
            "linecolor": "white",
            "ticks": ""
           },
           "bgcolor": "#E5ECF6",
           "radialaxis": {
            "gridcolor": "white",
            "linecolor": "white",
            "ticks": ""
           }
          },
          "scene": {
           "xaxis": {
            "backgroundcolor": "#E5ECF6",
            "gridcolor": "white",
            "gridwidth": 2,
            "linecolor": "white",
            "showbackground": true,
            "ticks": "",
            "zerolinecolor": "white"
           },
           "yaxis": {
            "backgroundcolor": "#E5ECF6",
            "gridcolor": "white",
            "gridwidth": 2,
            "linecolor": "white",
            "showbackground": true,
            "ticks": "",
            "zerolinecolor": "white"
           },
           "zaxis": {
            "backgroundcolor": "#E5ECF6",
            "gridcolor": "white",
            "gridwidth": 2,
            "linecolor": "white",
            "showbackground": true,
            "ticks": "",
            "zerolinecolor": "white"
           }
          },
          "shapedefaults": {
           "line": {
            "color": "#2a3f5f"
           }
          },
          "ternary": {
           "aaxis": {
            "gridcolor": "white",
            "linecolor": "white",
            "ticks": ""
           },
           "baxis": {
            "gridcolor": "white",
            "linecolor": "white",
            "ticks": ""
           },
           "bgcolor": "#E5ECF6",
           "caxis": {
            "gridcolor": "white",
            "linecolor": "white",
            "ticks": ""
           }
          },
          "title": {
           "x": 0.05
          },
          "xaxis": {
           "automargin": true,
           "gridcolor": "white",
           "linecolor": "white",
           "ticks": "",
           "title": {
            "standoff": 15
           },
           "zerolinecolor": "white",
           "zerolinewidth": 2
          },
          "yaxis": {
           "automargin": true,
           "gridcolor": "white",
           "linecolor": "white",
           "ticks": "",
           "title": {
            "standoff": 15
           },
           "zerolinecolor": "white",
           "zerolinewidth": 2
          }
         }
        },
        "xaxis": {
         "anchor": "y",
         "domain": [
          0,
          1
         ],
         "title": {
          "text": "years"
         },
         "type": "category"
        },
        "yaxis": {
         "anchor": "x",
         "domain": [
          0,
          1
         ],
         "title": {
          "text": "nombre de reviews"
         }
        }
       }
      }
     },
     "metadata": {},
     "output_type": "display_data"
    }
   ],
   "source": [
    "import pandas as pd\n",
    "import plotly.express as px\n",
    "\n",
    "data['date'] = pd.to_datetime(data['date'])\n",
    "\n",
    "# Regrouper les données par année\n",
    "data['years'] = data['date'].dt.to_period('Y')\n",
    "\n",
    "# Convertir les valeurs 'Period' en chaînes de caractères\n",
    "data['years'] = data['years'].astype(str)\n",
    "\n",
    "# Calculer le nombre de reviews, la note moyenne, la note la plus basse et la note la plus haute par année\n",
    "nb_reviews = data.groupby('years').agg({'rate': ['count', 'mean', 'min', 'max']}).reset_index()\n",
    "nb_reviews.columns = ['years', 'nombre de reviews', 'note moyenne', 'note la plus basse', 'note la plus haute']\n",
    "\n",
    "# Créer un graphique avec l'année, le nombre de reviews et la note moyenne\n",
    "fig = px.line(nb_reviews, x='years', y='nombre de reviews', text='note moyenne')\n",
    "fig.update_traces(texttemplate='%{text:.1f}', textposition='top center', \n",
    "                  hovertemplate='Année: %{x}<br>Nombre de reviews: %{y}<br>Note moyenne: %{text:.1f}<br>Note la plus basse: %{customdata[0]:.1f}<br>Note la plus haute: %{customdata[1]:.1f}',\n",
    "                  customdata=nb_reviews[['note la plus basse', 'note la plus haute']].values)\n",
    "fig.update_layout(hovermode=\"x unified\")\n",
    "fig.update_traces(mode=\"markers+lines\")\n",
    "fig.update_layout(xaxis={'type': 'category'})\n",
    "fig.show()\n",
    "\n"
   ]
  },
  {
   "cell_type": "code",
   "execution_count": 316,
   "metadata": {},
   "outputs": [],
   "source": [
    "location = data.groupby('object_address').count().reset_index()"
   ]
  },
  {
   "cell_type": "code",
   "execution_count": 317,
   "metadata": {},
   "outputs": [
    {
     "ename": "KeyError",
     "evalue": "'years'",
     "output_type": "error",
     "traceback": [
      "\u001b[0;31m---------------------------------------------------------------------------\u001b[0m",
      "\u001b[0;31mKeyError\u001b[0m                                  Traceback (most recent call last)",
      "Cell \u001b[0;32mIn[317], line 7\u001b[0m\n\u001b[1;32m      4\u001b[0m data[\u001b[39m'\u001b[39m\u001b[39mdate\u001b[39m\u001b[39m'\u001b[39m] \u001b[39m=\u001b[39m pd\u001b[39m.\u001b[39mto_datetime(data[\u001b[39m'\u001b[39m\u001b[39mdate\u001b[39m\u001b[39m'\u001b[39m])\n\u001b[1;32m      6\u001b[0m \u001b[39m# Regrouper les données par lieu (object_address) et année\u001b[39;00m\n\u001b[0;32m----> 7\u001b[0m location \u001b[39m=\u001b[39m data\u001b[39m.\u001b[39;49mgroupby([\u001b[39m'\u001b[39;49m\u001b[39mobject_address\u001b[39;49m\u001b[39m'\u001b[39;49m, \u001b[39m'\u001b[39;49m\u001b[39myears\u001b[39;49m\u001b[39m'\u001b[39;49m])\u001b[39m.\u001b[39magg({\u001b[39m'\u001b[39m\u001b[39mrate\u001b[39m\u001b[39m'\u001b[39m: [\u001b[39m'\u001b[39m\u001b[39mcount\u001b[39m\u001b[39m'\u001b[39m, \u001b[39m'\u001b[39m\u001b[39mmean\u001b[39m\u001b[39m'\u001b[39m]})\u001b[39m.\u001b[39mreset_index()\n\u001b[1;32m      8\u001b[0m location\u001b[39m.\u001b[39mcolumns \u001b[39m=\u001b[39m [\u001b[39m'\u001b[39m\u001b[39mobject_address\u001b[39m\u001b[39m'\u001b[39m, \u001b[39m'\u001b[39m\u001b[39myears\u001b[39m\u001b[39m'\u001b[39m, \u001b[39m'\u001b[39m\u001b[39mnombre de reviews\u001b[39m\u001b[39m'\u001b[39m, \u001b[39m'\u001b[39m\u001b[39mnote moyenne\u001b[39m\u001b[39m'\u001b[39m]\n\u001b[1;32m     11\u001b[0m test \u001b[39m=\u001b[39m loc\u001b[39m.\u001b[39mmerge(location, on\u001b[39m=\u001b[39m\u001b[39m'\u001b[39m\u001b[39mobject_address\u001b[39m\u001b[39m'\u001b[39m, how\u001b[39m=\u001b[39m\u001b[39m'\u001b[39m\u001b[39mleft\u001b[39m\u001b[39m'\u001b[39m)\n",
      "File \u001b[0;32m~/repo/Hetic/projet_gouv/scraping/clean_data_env/lib/python3.10/site-packages/pandas/core/frame.py:8262\u001b[0m, in \u001b[0;36mDataFrame.groupby\u001b[0;34m(self, by, axis, level, as_index, sort, group_keys, observed, dropna)\u001b[0m\n\u001b[1;32m   8259\u001b[0m     \u001b[39mraise\u001b[39;00m \u001b[39mTypeError\u001b[39;00m(\u001b[39m\"\u001b[39m\u001b[39mYou have to supply one of \u001b[39m\u001b[39m'\u001b[39m\u001b[39mby\u001b[39m\u001b[39m'\u001b[39m\u001b[39m and \u001b[39m\u001b[39m'\u001b[39m\u001b[39mlevel\u001b[39m\u001b[39m'\u001b[39m\u001b[39m\"\u001b[39m)\n\u001b[1;32m   8260\u001b[0m axis \u001b[39m=\u001b[39m \u001b[39mself\u001b[39m\u001b[39m.\u001b[39m_get_axis_number(axis)\n\u001b[0;32m-> 8262\u001b[0m \u001b[39mreturn\u001b[39;00m DataFrameGroupBy(\n\u001b[1;32m   8263\u001b[0m     obj\u001b[39m=\u001b[39;49m\u001b[39mself\u001b[39;49m,\n\u001b[1;32m   8264\u001b[0m     keys\u001b[39m=\u001b[39;49mby,\n\u001b[1;32m   8265\u001b[0m     axis\u001b[39m=\u001b[39;49maxis,\n\u001b[1;32m   8266\u001b[0m     level\u001b[39m=\u001b[39;49mlevel,\n\u001b[1;32m   8267\u001b[0m     as_index\u001b[39m=\u001b[39;49mas_index,\n\u001b[1;32m   8268\u001b[0m     sort\u001b[39m=\u001b[39;49msort,\n\u001b[1;32m   8269\u001b[0m     group_keys\u001b[39m=\u001b[39;49mgroup_keys,\n\u001b[1;32m   8270\u001b[0m     observed\u001b[39m=\u001b[39;49mobserved,\n\u001b[1;32m   8271\u001b[0m     dropna\u001b[39m=\u001b[39;49mdropna,\n\u001b[1;32m   8272\u001b[0m )\n",
      "File \u001b[0;32m~/repo/Hetic/projet_gouv/scraping/clean_data_env/lib/python3.10/site-packages/pandas/core/groupby/groupby.py:931\u001b[0m, in \u001b[0;36mGroupBy.__init__\u001b[0;34m(self, obj, keys, axis, level, grouper, exclusions, selection, as_index, sort, group_keys, observed, dropna)\u001b[0m\n\u001b[1;32m    928\u001b[0m \u001b[39mself\u001b[39m\u001b[39m.\u001b[39mdropna \u001b[39m=\u001b[39m dropna\n\u001b[1;32m    930\u001b[0m \u001b[39mif\u001b[39;00m grouper \u001b[39mis\u001b[39;00m \u001b[39mNone\u001b[39;00m:\n\u001b[0;32m--> 931\u001b[0m     grouper, exclusions, obj \u001b[39m=\u001b[39m get_grouper(\n\u001b[1;32m    932\u001b[0m         obj,\n\u001b[1;32m    933\u001b[0m         keys,\n\u001b[1;32m    934\u001b[0m         axis\u001b[39m=\u001b[39;49maxis,\n\u001b[1;32m    935\u001b[0m         level\u001b[39m=\u001b[39;49mlevel,\n\u001b[1;32m    936\u001b[0m         sort\u001b[39m=\u001b[39;49msort,\n\u001b[1;32m    937\u001b[0m         observed\u001b[39m=\u001b[39;49mobserved,\n\u001b[1;32m    938\u001b[0m         dropna\u001b[39m=\u001b[39;49m\u001b[39mself\u001b[39;49m\u001b[39m.\u001b[39;49mdropna,\n\u001b[1;32m    939\u001b[0m     )\n\u001b[1;32m    941\u001b[0m \u001b[39mself\u001b[39m\u001b[39m.\u001b[39mobj \u001b[39m=\u001b[39m obj\n\u001b[1;32m    942\u001b[0m \u001b[39mself\u001b[39m\u001b[39m.\u001b[39maxis \u001b[39m=\u001b[39m obj\u001b[39m.\u001b[39m_get_axis_number(axis)\n",
      "File \u001b[0;32m~/repo/Hetic/projet_gouv/scraping/clean_data_env/lib/python3.10/site-packages/pandas/core/groupby/grouper.py:985\u001b[0m, in \u001b[0;36mget_grouper\u001b[0;34m(obj, key, axis, level, sort, observed, validate, dropna)\u001b[0m\n\u001b[1;32m    983\u001b[0m         in_axis, level, gpr \u001b[39m=\u001b[39m \u001b[39mFalse\u001b[39;00m, gpr, \u001b[39mNone\u001b[39;00m\n\u001b[1;32m    984\u001b[0m     \u001b[39melse\u001b[39;00m:\n\u001b[0;32m--> 985\u001b[0m         \u001b[39mraise\u001b[39;00m \u001b[39mKeyError\u001b[39;00m(gpr)\n\u001b[1;32m    986\u001b[0m \u001b[39melif\u001b[39;00m \u001b[39misinstance\u001b[39m(gpr, Grouper) \u001b[39mand\u001b[39;00m gpr\u001b[39m.\u001b[39mkey \u001b[39mis\u001b[39;00m \u001b[39mnot\u001b[39;00m \u001b[39mNone\u001b[39;00m:\n\u001b[1;32m    987\u001b[0m     \u001b[39m# Add key to exclusions\u001b[39;00m\n\u001b[1;32m    988\u001b[0m     exclusions\u001b[39m.\u001b[39madd(gpr\u001b[39m.\u001b[39mkey)\n",
      "\u001b[0;31mKeyError\u001b[0m: 'years'"
     ]
    }
   ],
   "source": [
    "import pandas as pd\n",
    "import plotly.express as px\n",
    "\n",
    "data['date'] = pd.to_datetime(data['date'])\n",
    "\n",
    "# Regrouper les données par lieu (object_address) et année\n",
    "location = data.groupby(['object_address', 'years']).agg({'rate': ['count', 'mean']}).reset_index()\n",
    "location.columns = ['object_address', 'years', 'nombre de reviews', 'note moyenne']\n",
    "\n",
    "\n",
    "test = loc.merge(location, on='object_address', how='left')"
   ]
  },
  {
   "cell_type": "code",
   "execution_count": 154,
   "metadata": {},
   "outputs": [],
   "source": [
    "loc.rename(columns={'adresse':'object_address'}, inplace=True)"
   ]
  },
  {
   "cell_type": "code",
   "execution_count": 354,
   "metadata": {},
   "outputs": [
    {
     "data": {
      "text/html": [
       "<div>\n",
       "<style scoped>\n",
       "    .dataframe tbody tr th:only-of-type {\n",
       "        vertical-align: middle;\n",
       "    }\n",
       "\n",
       "    .dataframe tbody tr th {\n",
       "        vertical-align: top;\n",
       "    }\n",
       "\n",
       "    .dataframe thead th {\n",
       "        text-align: right;\n",
       "    }\n",
       "</style>\n",
       "<table border=\"1\" class=\"dataframe\">\n",
       "  <thead>\n",
       "    <tr style=\"text-align: right;\">\n",
       "      <th></th>\n",
       "      <th>Unnamed: 0</th>\n",
       "      <th>name</th>\n",
       "      <th>object_address</th>\n",
       "      <th>location</th>\n",
       "    </tr>\n",
       "  </thead>\n",
       "  <tbody>\n",
       "    <tr>\n",
       "      <th>0</th>\n",
       "      <td>0</td>\n",
       "      <td>pole emploi AVS Placement Artistes</td>\n",
       "      <td>10 RUE BRANCION 75015 Paris</td>\n",
       "      <td>pole emploi AVS Placement Artistes 10 RUE BRAN...</td>\n",
       "    </tr>\n",
       "    <tr>\n",
       "      <th>1</th>\n",
       "      <td>1</td>\n",
       "      <td>Pole emploi Beaumarchais</td>\n",
       "      <td>11 RUE PELEE 75011 Paris</td>\n",
       "      <td>Pole emploi Beaumarchais 11 RUE PELEE 75011 Paris</td>\n",
       "    </tr>\n",
       "    <tr>\n",
       "      <th>2</th>\n",
       "      <td>2</td>\n",
       "      <td>Pole emploi Cardinet</td>\n",
       "      <td>8 RUE Bernard Buffet 75017 Paris</td>\n",
       "      <td>Pole emploi Cardinet 8 RUE Bernard Buffet 7501...</td>\n",
       "    </tr>\n",
       "    <tr>\n",
       "      <th>3</th>\n",
       "      <td>3</td>\n",
       "      <td>pole emploi Armand Carrel</td>\n",
       "      <td>44 RUE Armand Carrel 75019 Paris</td>\n",
       "      <td>pole emploi Armand Carrel 44 RUE Armand Carrel...</td>\n",
       "    </tr>\n",
       "    <tr>\n",
       "      <th>4</th>\n",
       "      <td>4</td>\n",
       "      <td>Pole emploi Vitruve</td>\n",
       "      <td>60 RUE Vitruve 75020 Paris</td>\n",
       "      <td>Pole emploi Vitruve 60 RUE Vitruve 75020 Paris</td>\n",
       "    </tr>\n",
       "    <tr>\n",
       "      <th>5</th>\n",
       "      <td>5</td>\n",
       "      <td>Pole emploi Daviel</td>\n",
       "      <td>27 RUE Daviel 75013 Paris</td>\n",
       "      <td>Pole emploi Daviel 27 RUE Daviel 75013 Paris</td>\n",
       "    </tr>\n",
       "    <tr>\n",
       "      <th>6</th>\n",
       "      <td>6</td>\n",
       "      <td>Pole emploi Laumière</td>\n",
       "      <td>75 AVENUE JEAN JAURES 75019 Paris</td>\n",
       "      <td>Pole emploi Laumière 75 AVENUE JEAN JAURES 750...</td>\n",
       "    </tr>\n",
       "    <tr>\n",
       "      <th>7</th>\n",
       "      <td>7</td>\n",
       "      <td>Pole emploi Genevoix</td>\n",
       "      <td>11 RUE Maurice Genevoix 75018 Paris</td>\n",
       "      <td>Pole emploi Genevoix 11 RUE Maurice Genevoix 7...</td>\n",
       "    </tr>\n",
       "    <tr>\n",
       "      <th>8</th>\n",
       "      <td>8</td>\n",
       "      <td>Pole emploi Diderot</td>\n",
       "      <td>3 BOULEVARD Diderot 75012 Paris</td>\n",
       "      <td>Pole emploi Diderot 3 BOULEVARD Diderot 75012 ...</td>\n",
       "    </tr>\n",
       "    <tr>\n",
       "      <th>9</th>\n",
       "      <td>9</td>\n",
       "      <td>Pole emploi Paul Lelong</td>\n",
       "      <td>4 RUE Paul Lelong 75002 Paris</td>\n",
       "      <td>Pole emploi Paul Lelong 4 RUE Paul Lelong 7500...</td>\n",
       "    </tr>\n",
       "    <tr>\n",
       "      <th>10</th>\n",
       "      <td>10</td>\n",
       "      <td>Pole emploi Vicq d'Azir</td>\n",
       "      <td>26 RUE Vicq d'Azir 75010 Paris</td>\n",
       "      <td>Pole emploi Vicq d'Azir 26 RUE Vicq d'Azir 750...</td>\n",
       "    </tr>\n",
       "    <tr>\n",
       "      <th>11</th>\n",
       "      <td>11</td>\n",
       "      <td>Pole emploi Brancion</td>\n",
       "      <td>10 RUE Brancion 75015 Paris</td>\n",
       "      <td>Pole emploi Brancion 10 RUE Brancion 75015 Paris</td>\n",
       "    </tr>\n",
       "    <tr>\n",
       "      <th>12</th>\n",
       "      <td>12</td>\n",
       "      <td>Pole emploi Ney</td>\n",
       "      <td>78 BOULEVARD Ney 75018 PARIS</td>\n",
       "      <td>Pole emploi Ney 78 BOULEVARD Ney 75018 PARIS</td>\n",
       "    </tr>\n",
       "    <tr>\n",
       "      <th>13</th>\n",
       "      <td>13</td>\n",
       "      <td>Pole emploi Piat</td>\n",
       "      <td>51 RUE Piat 75020 PARIS</td>\n",
       "      <td>Pôle emploi - Paris 20ème Piat</td>\n",
       "    </tr>\n",
       "    <tr>\n",
       "      <th>14</th>\n",
       "      <td>14</td>\n",
       "      <td>Pole emploi Jean Moulin</td>\n",
       "      <td>9 RUE FRIANT 75014 PARIS</td>\n",
       "      <td>Pole emploi Jean Moulin 9 RUE FRIANT 75014 PARIS</td>\n",
       "    </tr>\n",
       "  </tbody>\n",
       "</table>\n",
       "</div>"
      ],
      "text/plain": [
       "    Unnamed: 0                                name   \n",
       "0            0  pole emploi AVS Placement Artistes  \\\n",
       "1            1            Pole emploi Beaumarchais   \n",
       "2            2                Pole emploi Cardinet   \n",
       "3            3           pole emploi Armand Carrel   \n",
       "4            4                 Pole emploi Vitruve   \n",
       "5            5                  Pole emploi Daviel   \n",
       "6            6                Pole emploi Laumière   \n",
       "7            7                Pole emploi Genevoix   \n",
       "8            8                 Pole emploi Diderot   \n",
       "9            9             Pole emploi Paul Lelong   \n",
       "10          10             Pole emploi Vicq d'Azir   \n",
       "11          11                Pole emploi Brancion   \n",
       "12          12                     Pole emploi Ney   \n",
       "13          13                    Pole emploi Piat   \n",
       "14          14             Pole emploi Jean Moulin   \n",
       "\n",
       "                         object_address   \n",
       "0           10 RUE BRANCION 75015 Paris  \\\n",
       "1              11 RUE PELEE 75011 Paris   \n",
       "2      8 RUE Bernard Buffet 75017 Paris   \n",
       "3      44 RUE Armand Carrel 75019 Paris   \n",
       "4            60 RUE Vitruve 75020 Paris   \n",
       "5             27 RUE Daviel 75013 Paris   \n",
       "6     75 AVENUE JEAN JAURES 75019 Paris   \n",
       "7   11 RUE Maurice Genevoix 75018 Paris   \n",
       "8       3 BOULEVARD Diderot 75012 Paris   \n",
       "9         4 RUE Paul Lelong 75002 Paris   \n",
       "10       26 RUE Vicq d'Azir 75010 Paris   \n",
       "11          10 RUE Brancion 75015 Paris   \n",
       "12         78 BOULEVARD Ney 75018 PARIS   \n",
       "13              51 RUE Piat 75020 PARIS   \n",
       "14             9 RUE FRIANT 75014 PARIS   \n",
       "\n",
       "                                             location  \n",
       "0   pole emploi AVS Placement Artistes 10 RUE BRAN...  \n",
       "1   Pole emploi Beaumarchais 11 RUE PELEE 75011 Paris  \n",
       "2   Pole emploi Cardinet 8 RUE Bernard Buffet 7501...  \n",
       "3   pole emploi Armand Carrel 44 RUE Armand Carrel...  \n",
       "4      Pole emploi Vitruve 60 RUE Vitruve 75020 Paris  \n",
       "5        Pole emploi Daviel 27 RUE Daviel 75013 Paris  \n",
       "6   Pole emploi Laumière 75 AVENUE JEAN JAURES 750...  \n",
       "7   Pole emploi Genevoix 11 RUE Maurice Genevoix 7...  \n",
       "8   Pole emploi Diderot 3 BOULEVARD Diderot 75012 ...  \n",
       "9   Pole emploi Paul Lelong 4 RUE Paul Lelong 7500...  \n",
       "10  Pole emploi Vicq d'Azir 26 RUE Vicq d'Azir 750...  \n",
       "11   Pole emploi Brancion 10 RUE Brancion 75015 Paris  \n",
       "12       Pole emploi Ney 78 BOULEVARD Ney 75018 PARIS  \n",
       "13                     Pôle emploi - Paris 20ème Piat  \n",
       "14   Pole emploi Jean Moulin 9 RUE FRIANT 75014 PARIS  "
      ]
     },
     "execution_count": 354,
     "metadata": {},
     "output_type": "execute_result"
    }
   ],
   "source": [
    "loc"
   ]
  },
  {
   "cell_type": "code",
   "execution_count": 346,
   "metadata": {},
   "outputs": [],
   "source": [
    "import pandas as pd\n",
    "import plotly.express as px\n",
    "\n",
    "data['date'] = pd.to_datetime(data['date'])\n",
    "\n",
    "# Regrouper les données par lieu (object_address) et année\n",
    "location = data.groupby(['object_address']).agg({'rate': ['count', 'mean']}).reset_index()\n",
    "location.columns = ['object_address', 'nombre de reviews', 'note moyenne']\n",
    "\n",
    "location['object_address'] = location['object_address'].str.replace(',', '')\n",
    "location['object_address'] = location['object_address'].str.lower()\n",
    "\n"
   ]
  },
  {
   "cell_type": "code",
   "execution_count": 347,
   "metadata": {},
   "outputs": [],
   "source": [
    "lieux = location['object_address'].unique()"
   ]
  },
  {
   "cell_type": "code",
   "execution_count": 348,
   "metadata": {},
   "outputs": [],
   "source": [
    "location['object_address'] = location['object_address'].str.replace('11 rue pelée 75011 paris', '11 rue pelee 75011 paris')\n",
    "location['object_address'] = location['object_address'].str.replace('3 bd diderot 75012 paris', '3 boulevard diderot 75012 paris')\n",
    "location['object_address'] = location['object_address'].str.replace('75 av. jean jaurès 75019 paris', '75 avenue jean jaures 75019 paris')\n",
    "location['object_address'] = location['object_address'].str.replace('78 bd ney 75018 paris', '78 boulevard ney 75018 paris')"
   ]
  },
  {
   "cell_type": "code",
   "execution_count": 403,
   "metadata": {},
   "outputs": [
    {
     "name": "stdout",
     "output_type": "stream",
     "text": [
      "Lieu '11 rue pelée 75011 paris' non trouvé dans address_to_lieu\n",
      "Lieu '3 bd diderot 75012 paris' non trouvé dans address_to_lieu\n",
      "Lieu '75 av. jean jaurès 75019 paris' non trouvé dans address_to_lieu\n",
      "Lieu '78 bd ney 75018 paris' non trouvé dans address_to_lieu\n",
      "Lieu 'ƒadam' non trouvé dans address_to_lieu\n"
     ]
    }
   ],
   "source": [
    "for lieu in lieux:\n",
    "    if lieu not in address_to_lieu:\n",
    "        print(f\"Lieu '{lieu}' non trouvé dans address_to_lieu\")\n"
   ]
  },
  {
   "cell_type": "code",
   "execution_count": 350,
   "metadata": {},
   "outputs": [],
   "source": [
    "location.drop(location[location['object_address'] == 'ƒadam'].index, inplace=True)\n"
   ]
  },
  {
   "cell_type": "code",
   "execution_count": 351,
   "metadata": {},
   "outputs": [
    {
     "data": {
      "text/plain": [
       "{'10 RUE BRANCION 75015 Paris': 'pole emploi AVS Placement Artistes',\n",
       " '11 RUE PELEE 75011 Paris': 'Pole emploi Beaumarchais',\n",
       " '8 RUE Bernard Buffet 75017 Paris': 'Pole emploi Cardinet',\n",
       " '44 RUE Armand Carrel 75019 Paris': 'pole emploi Armand Carrel',\n",
       " '60 RUE Vitruve 75020 Paris': 'Pole emploi Vitruve',\n",
       " '27 RUE Daviel 75013 Paris': 'Pole emploi Daviel',\n",
       " '75 AVENUE JEAN JAURES 75019 Paris': 'Pole emploi Laumière',\n",
       " '11 RUE Maurice Genevoix 75018 Paris': 'Pole emploi Genevoix',\n",
       " '3 BOULEVARD Diderot 75012 Paris': 'Pole emploi Diderot',\n",
       " '4 RUE Paul Lelong 75002 Paris': 'Pole emploi Paul Lelong',\n",
       " \"26 RUE Vicq d'Azir 75010 Paris\": \"Pole emploi Vicq d'Azir\",\n",
       " '10 RUE Brancion 75015 Paris': 'Pole emploi Brancion',\n",
       " '78 BOULEVARD Ney 75018 PARIS': 'Pole emploi Ney',\n",
       " '51 RUE Piat 75020 PARIS': 'Pole emploi Piat',\n",
       " '9 RUE FRIANT 75014 PARIS': 'Pole emploi Jean Moulin'}"
      ]
     },
     "execution_count": 351,
     "metadata": {},
     "output_type": "execute_result"
    }
   ],
   "source": [
    "address_to_lieu"
   ]
  },
  {
   "cell_type": "code",
   "execution_count": 302,
   "metadata": {},
   "outputs": [],
   "source": [
    "address_to_lieu = loc.set_index('object_address')['name'].to_dict()\n",
    "\n",
    "# Ajouter la colonne \"name\" au DataFrame location en utilisant la correspondance de object_address\n",
    "location['object_address'] = location['object_address'].map(address_to_lieu)"
   ]
  },
  {
   "cell_type": "code",
   "execution_count": 345,
   "metadata": {},
   "outputs": [
    {
     "data": {
      "text/html": [
       "<div>\n",
       "<style scoped>\n",
       "    .dataframe tbody tr th:only-of-type {\n",
       "        vertical-align: middle;\n",
       "    }\n",
       "\n",
       "    .dataframe tbody tr th {\n",
       "        vertical-align: top;\n",
       "    }\n",
       "\n",
       "    .dataframe thead th {\n",
       "        text-align: right;\n",
       "    }\n",
       "</style>\n",
       "<table border=\"1\" class=\"dataframe\">\n",
       "  <thead>\n",
       "    <tr style=\"text-align: right;\">\n",
       "      <th></th>\n",
       "      <th>object_address</th>\n",
       "      <th>date</th>\n",
       "      <th>rate</th>\n",
       "      <th>review_text</th>\n",
       "    </tr>\n",
       "  </thead>\n",
       "  <tbody>\n",
       "    <tr>\n",
       "      <th>0</th>\n",
       "      <td>NaN</td>\n",
       "      <td>124</td>\n",
       "      <td>124</td>\n",
       "      <td>66</td>\n",
       "    </tr>\n",
       "    <tr>\n",
       "      <th>1</th>\n",
       "      <td>NaN</td>\n",
       "      <td>29</td>\n",
       "      <td>29</td>\n",
       "      <td>20</td>\n",
       "    </tr>\n",
       "    <tr>\n",
       "      <th>2</th>\n",
       "      <td>NaN</td>\n",
       "      <td>32</td>\n",
       "      <td>32</td>\n",
       "      <td>22</td>\n",
       "    </tr>\n",
       "    <tr>\n",
       "      <th>3</th>\n",
       "      <td>NaN</td>\n",
       "      <td>31</td>\n",
       "      <td>31</td>\n",
       "      <td>23</td>\n",
       "    </tr>\n",
       "    <tr>\n",
       "      <th>4</th>\n",
       "      <td>NaN</td>\n",
       "      <td>82</td>\n",
       "      <td>82</td>\n",
       "      <td>53</td>\n",
       "    </tr>\n",
       "    <tr>\n",
       "      <th>5</th>\n",
       "      <td>NaN</td>\n",
       "      <td>54</td>\n",
       "      <td>54</td>\n",
       "      <td>33</td>\n",
       "    </tr>\n",
       "    <tr>\n",
       "      <th>6</th>\n",
       "      <td>NaN</td>\n",
       "      <td>27</td>\n",
       "      <td>27</td>\n",
       "      <td>16</td>\n",
       "    </tr>\n",
       "    <tr>\n",
       "      <th>7</th>\n",
       "      <td>NaN</td>\n",
       "      <td>47</td>\n",
       "      <td>47</td>\n",
       "      <td>23</td>\n",
       "    </tr>\n",
       "    <tr>\n",
       "      <th>8</th>\n",
       "      <td>NaN</td>\n",
       "      <td>20</td>\n",
       "      <td>20</td>\n",
       "      <td>10</td>\n",
       "    </tr>\n",
       "    <tr>\n",
       "      <th>9</th>\n",
       "      <td>NaN</td>\n",
       "      <td>35</td>\n",
       "      <td>35</td>\n",
       "      <td>22</td>\n",
       "    </tr>\n",
       "    <tr>\n",
       "      <th>10</th>\n",
       "      <td>NaN</td>\n",
       "      <td>25</td>\n",
       "      <td>25</td>\n",
       "      <td>9</td>\n",
       "    </tr>\n",
       "    <tr>\n",
       "      <th>11</th>\n",
       "      <td>NaN</td>\n",
       "      <td>54</td>\n",
       "      <td>54</td>\n",
       "      <td>38</td>\n",
       "    </tr>\n",
       "    <tr>\n",
       "      <th>12</th>\n",
       "      <td>NaN</td>\n",
       "      <td>77</td>\n",
       "      <td>77</td>\n",
       "      <td>51</td>\n",
       "    </tr>\n",
       "    <tr>\n",
       "      <th>13</th>\n",
       "      <td>NaN</td>\n",
       "      <td>39</td>\n",
       "      <td>39</td>\n",
       "      <td>26</td>\n",
       "    </tr>\n",
       "    <tr>\n",
       "      <th>14</th>\n",
       "      <td>NaN</td>\n",
       "      <td>1</td>\n",
       "      <td>1</td>\n",
       "      <td>1</td>\n",
       "    </tr>\n",
       "  </tbody>\n",
       "</table>\n",
       "</div>"
      ],
      "text/plain": [
       "   object_address  date  rate  review_text\n",
       "0             NaN   124   124           66\n",
       "1             NaN    29    29           20\n",
       "2             NaN    32    32           22\n",
       "3             NaN    31    31           23\n",
       "4             NaN    82    82           53\n",
       "5             NaN    54    54           33\n",
       "6             NaN    27    27           16\n",
       "7             NaN    47    47           23\n",
       "8             NaN    20    20           10\n",
       "9             NaN    35    35           22\n",
       "10            NaN    25    25            9\n",
       "11            NaN    54    54           38\n",
       "12            NaN    77    77           51\n",
       "13            NaN    39    39           26\n",
       "14            NaN     1     1            1"
      ]
     },
     "execution_count": 345,
     "metadata": {},
     "output_type": "execute_result"
    }
   ],
   "source": [
    "location"
   ]
  },
  {
   "cell_type": "code",
   "execution_count": 259,
   "metadata": {},
   "outputs": [
    {
     "data": {
      "text/plain": [
       "{'10 rue brancion 75015 paris': 'Pole emploi Brancion',\n",
       " '11 rue pelee 75011 paris': 'Pole emploi Beaumarchais',\n",
       " '8 rue bernard buffet 75017 paris': 'Pole emploi Cardinet',\n",
       " '44 rue armand carrel 75019 paris': 'pole emploi Armand Carrel',\n",
       " '60 rue vitruve 75020 paris': 'Pole emploi Vitruve',\n",
       " '27 rue daviel 75013 paris': 'Pole emploi Daviel',\n",
       " '75 avenue jean jaures 75019 paris': 'Pole emploi Laumière',\n",
       " '11 rue maurice genevoix 75018 paris': 'Pole emploi Genevoix',\n",
       " '3 boulevard diderot 75012 paris': 'Pole emploi Diderot',\n",
       " '4 rue paul lelong 75002 paris': 'Pole emploi Paul Lelong',\n",
       " \"26 rue vicq d'azir 75010 paris\": \"Pole emploi Vicq d'Azir\",\n",
       " '78 boulevard ney 75018 paris': 'Pole emploi Ney',\n",
       " '51 rue piat 75020 paris': 'Pole emploi Piat',\n",
       " '9 rue friant 75014 paris': 'Pole emploi Jean Moulin'}"
      ]
     },
     "execution_count": 259,
     "metadata": {},
     "output_type": "execute_result"
    }
   ],
   "source": [
    "address_to_lieu"
   ]
  },
  {
   "cell_type": "code",
   "execution_count": 169,
   "metadata": {},
   "outputs": [],
   "source": [
    "loc['object_address'] = loc['object_address'].str.lower().str.strip()\n",
    "location['object_address'] = location['object_address'].str.lower().str.strip()\n"
   ]
  },
  {
   "cell_type": "code",
   "execution_count": 240,
   "metadata": {},
   "outputs": [
    {
     "name": "stdout",
     "output_type": "stream",
     "text": [
      "Collecting geopy\n",
      "  Downloading geopy-2.3.0-py3-none-any.whl (119 kB)\n",
      "\u001b[K     |████████████████████████████████| 119 kB 4.5 MB/s eta 0:00:01\n",
      "\u001b[?25hCollecting geographiclib<3,>=1.52\n",
      "  Downloading geographiclib-2.0-py3-none-any.whl (40 kB)\n",
      "\u001b[K     |████████████████████████████████| 40 kB 6.2 MB/s eta 0:00:01\n",
      "\u001b[?25hInstalling collected packages: geographiclib, geopy\n",
      "Successfully installed geographiclib-2.0 geopy-2.3.0\n",
      "\u001b[33mWARNING: You are using pip version 21.2.4; however, version 23.1.2 is available.\n",
      "You should consider upgrading via the '/Users/camille/repo/Hetic/projet_gouv/scraping/clean_data_env/bin/python3 -m pip install --upgrade pip' command.\u001b[0m\n"
     ]
    }
   ],
   "source": [
    "!pip install geopy"
   ]
  },
  {
   "cell_type": "code",
   "execution_count": 241,
   "metadata": {},
   "outputs": [
    {
     "data": {
      "text/html": [
       "<div>\n",
       "<style scoped>\n",
       "    .dataframe tbody tr th:only-of-type {\n",
       "        vertical-align: middle;\n",
       "    }\n",
       "\n",
       "    .dataframe tbody tr th {\n",
       "        vertical-align: top;\n",
       "    }\n",
       "\n",
       "    .dataframe thead th {\n",
       "        text-align: right;\n",
       "    }\n",
       "</style>\n",
       "<table border=\"1\" class=\"dataframe\">\n",
       "  <thead>\n",
       "    <tr style=\"text-align: right;\">\n",
       "      <th></th>\n",
       "      <th>object_address</th>\n",
       "      <th>years</th>\n",
       "      <th>nombre de reviews</th>\n",
       "      <th>note moyenne</th>\n",
       "    </tr>\n",
       "  </thead>\n",
       "  <tbody>\n",
       "    <tr>\n",
       "      <th>0</th>\n",
       "      <td>Pole emploi Brancion</td>\n",
       "      <td>2016</td>\n",
       "      <td>2</td>\n",
       "      <td>4.000000</td>\n",
       "    </tr>\n",
       "    <tr>\n",
       "      <th>1</th>\n",
       "      <td>Pole emploi Brancion</td>\n",
       "      <td>2017</td>\n",
       "      <td>18</td>\n",
       "      <td>2.444444</td>\n",
       "    </tr>\n",
       "    <tr>\n",
       "      <th>2</th>\n",
       "      <td>Pole emploi Brancion</td>\n",
       "      <td>2018</td>\n",
       "      <td>12</td>\n",
       "      <td>2.666667</td>\n",
       "    </tr>\n",
       "    <tr>\n",
       "      <th>3</th>\n",
       "      <td>Pole emploi Brancion</td>\n",
       "      <td>2019</td>\n",
       "      <td>22</td>\n",
       "      <td>2.727273</td>\n",
       "    </tr>\n",
       "    <tr>\n",
       "      <th>4</th>\n",
       "      <td>Pole emploi Brancion</td>\n",
       "      <td>2020</td>\n",
       "      <td>16</td>\n",
       "      <td>3.250000</td>\n",
       "    </tr>\n",
       "    <tr>\n",
       "      <th>...</th>\n",
       "      <td>...</td>\n",
       "      <td>...</td>\n",
       "      <td>...</td>\n",
       "      <td>...</td>\n",
       "    </tr>\n",
       "    <tr>\n",
       "      <th>102</th>\n",
       "      <td>Pole emploi Jean Moulin</td>\n",
       "      <td>2020</td>\n",
       "      <td>5</td>\n",
       "      <td>3.400000</td>\n",
       "    </tr>\n",
       "    <tr>\n",
       "      <th>103</th>\n",
       "      <td>Pole emploi Jean Moulin</td>\n",
       "      <td>2021</td>\n",
       "      <td>4</td>\n",
       "      <td>4.000000</td>\n",
       "    </tr>\n",
       "    <tr>\n",
       "      <th>104</th>\n",
       "      <td>Pole emploi Jean Moulin</td>\n",
       "      <td>2022</td>\n",
       "      <td>9</td>\n",
       "      <td>2.777778</td>\n",
       "    </tr>\n",
       "    <tr>\n",
       "      <th>105</th>\n",
       "      <td>Pole emploi Jean Moulin</td>\n",
       "      <td>2023</td>\n",
       "      <td>2</td>\n",
       "      <td>2.500000</td>\n",
       "    </tr>\n",
       "    <tr>\n",
       "      <th>106</th>\n",
       "      <td>NaN</td>\n",
       "      <td>2023</td>\n",
       "      <td>1</td>\n",
       "      <td>1.000000</td>\n",
       "    </tr>\n",
       "  </tbody>\n",
       "</table>\n",
       "<p>107 rows × 4 columns</p>\n",
       "</div>"
      ],
      "text/plain": [
       "              object_address years  nombre de reviews  note moyenne\n",
       "0       Pole emploi Brancion  2016                  2      4.000000\n",
       "1       Pole emploi Brancion  2017                 18      2.444444\n",
       "2       Pole emploi Brancion  2018                 12      2.666667\n",
       "3       Pole emploi Brancion  2019                 22      2.727273\n",
       "4       Pole emploi Brancion  2020                 16      3.250000\n",
       "..                       ...   ...                ...           ...\n",
       "102  Pole emploi Jean Moulin  2020                  5      3.400000\n",
       "103  Pole emploi Jean Moulin  2021                  4      4.000000\n",
       "104  Pole emploi Jean Moulin  2022                  9      2.777778\n",
       "105  Pole emploi Jean Moulin  2023                  2      2.500000\n",
       "106                      NaN  2023                  1      1.000000\n",
       "\n",
       "[107 rows x 4 columns]"
      ]
     },
     "execution_count": 241,
     "metadata": {},
     "output_type": "execute_result"
    }
   ],
   "source": [
    "location"
   ]
  },
  {
   "cell_type": "code",
   "execution_count": 304,
   "metadata": {},
   "outputs": [],
   "source": [
    "from geopy.geocoders import Nominatim\n",
    "from geopy.exc import GeocoderTimedOut\n",
    "geolocator = Nominatim(user_agent='my_geocoder')\n",
    "# Parcours des adresses dans le DataFrame location\n",
    "for index, row in location.iterrows():\n",
    "    address = row['object_address']\n",
    "    \n",
    "    try:\n",
    "        # Effectuer la requête de géocodage\n",
    "        location_info = geolocator.geocode(address)\n",
    "        \n",
    "        # Extraire les coordonnées de latitude et de longitude s'il y a des résultats\n",
    "        if location_info:\n",
    "            latitude = location_info.latitude\n",
    "            longitude = location_info.longitude\n",
    "            \n",
    "            # Mettre à jour les valeurs de latitude et de longitude dans le DataFrame location\n",
    "            location.at[index, 'latitude'] = latitude\n",
    "            location.at[index, 'longitude'] = longitude\n",
    "            \n",
    "    except GeocoderTimedOut:\n",
    "        continue\n"
   ]
  },
  {
   "cell_type": "code",
   "execution_count": 258,
   "metadata": {},
   "outputs": [],
   "source": [
    "location.to_csv('test.csv', index=False)"
   ]
  },
  {
   "cell_type": "code",
   "execution_count": 305,
   "metadata": {},
   "outputs": [
    {
     "data": {
      "application/vnd.plotly.v1+json": {
       "config": {
        "plotlyServerURL": "https://plot.ly"
       },
       "data": [
        {
         "customdata": [
          [
           124,
           2.7580645161290325
          ],
          [
           29,
           3.0344827586206895
          ],
          [
           32,
           2.5625
          ],
          [
           31,
           2.7419354838709675
          ],
          [
           82,
           2.5
          ],
          [
           54,
           2.1296296296296298
          ],
          [
           27,
           2.5925925925925926
          ],
          [
           47,
           2.425531914893617
          ],
          [
           20,
           3
          ],
          [
           35,
           2.914285714285714
          ],
          [
           25,
           3.2
          ],
          [
           54,
           2.2962962962962963
          ],
          [
           77,
           2.4415584415584415
          ],
          [
           39,
           2.8205128205128207
          ]
         ],
         "hovertemplate": "<b>%{hovertext}</b><br>Nombre de reviews: %{customdata[0]}<br>Note moyenne: %{customdata[1]:.1f}",
         "hovertext": [
          "Pole emploi Brancion",
          "Pole emploi Genevoix",
          "Pole emploi Beaumarchais",
          "Pole emploi Vicq d'Azir",
          "Pole emploi Daviel",
          "Pole emploi Diderot",
          "Pole emploi Paul Lelong",
          "pole emploi Armand Carrel",
          "Pole emploi Piat",
          "Pole emploi Vitruve",
          "Pole emploi Laumière",
          "Pole emploi Ney",
          "Pole emploi Cardinet",
          "Pole emploi Jean Moulin"
         ],
         "lat": [
          48.8357524,
          48.8942378,
          null,
          48.8760534,
          48.8281244,
          48.845456,
          48.8678192,
          48.8828951,
          48.8729911,
          48.8588506,
          null,
          47.396720450000004,
          null,
          43.6793702
         ],
         "legendgroup": "",
         "lon": [
          2.3057069,
          2.3601581,
          null,
          2.371474,
          2.3442727,
          2.3689193,
          2.3432588,
          2.3764733,
          2.3835548,
          2.4061753,
          null,
          2.9257239723965474,
          null,
          4.6356782
         ],
         "marker": {
          "color": "#636efa"
         },
         "mode": "markers",
         "name": "",
         "showlegend": false,
         "subplot": "mapbox",
         "type": "scattermapbox"
        }
       ],
       "layout": {
        "autosize": true,
        "height": 800,
        "legend": {
         "tracegroupgap": 0
        },
        "mapbox": {
         "center": {
          "lat": 48.8566,
          "lon": 2.3522
         },
         "domain": {
          "x": [
           0,
           1
          ],
          "y": [
           0,
           1
          ]
         },
         "style": "carto-positron",
         "zoom": 10
        },
        "margin": {
         "t": 60
        },
        "template": {
         "data": {
          "bar": [
           {
            "error_x": {
             "color": "#2a3f5f"
            },
            "error_y": {
             "color": "#2a3f5f"
            },
            "marker": {
             "line": {
              "color": "#E5ECF6",
              "width": 0.5
             },
             "pattern": {
              "fillmode": "overlay",
              "size": 10,
              "solidity": 0.2
             }
            },
            "type": "bar"
           }
          ],
          "barpolar": [
           {
            "marker": {
             "line": {
              "color": "#E5ECF6",
              "width": 0.5
             },
             "pattern": {
              "fillmode": "overlay",
              "size": 10,
              "solidity": 0.2
             }
            },
            "type": "barpolar"
           }
          ],
          "carpet": [
           {
            "aaxis": {
             "endlinecolor": "#2a3f5f",
             "gridcolor": "white",
             "linecolor": "white",
             "minorgridcolor": "white",
             "startlinecolor": "#2a3f5f"
            },
            "baxis": {
             "endlinecolor": "#2a3f5f",
             "gridcolor": "white",
             "linecolor": "white",
             "minorgridcolor": "white",
             "startlinecolor": "#2a3f5f"
            },
            "type": "carpet"
           }
          ],
          "choropleth": [
           {
            "colorbar": {
             "outlinewidth": 0,
             "ticks": ""
            },
            "type": "choropleth"
           }
          ],
          "contour": [
           {
            "colorbar": {
             "outlinewidth": 0,
             "ticks": ""
            },
            "colorscale": [
             [
              0,
              "#0d0887"
             ],
             [
              0.1111111111111111,
              "#46039f"
             ],
             [
              0.2222222222222222,
              "#7201a8"
             ],
             [
              0.3333333333333333,
              "#9c179e"
             ],
             [
              0.4444444444444444,
              "#bd3786"
             ],
             [
              0.5555555555555556,
              "#d8576b"
             ],
             [
              0.6666666666666666,
              "#ed7953"
             ],
             [
              0.7777777777777778,
              "#fb9f3a"
             ],
             [
              0.8888888888888888,
              "#fdca26"
             ],
             [
              1,
              "#f0f921"
             ]
            ],
            "type": "contour"
           }
          ],
          "contourcarpet": [
           {
            "colorbar": {
             "outlinewidth": 0,
             "ticks": ""
            },
            "type": "contourcarpet"
           }
          ],
          "heatmap": [
           {
            "colorbar": {
             "outlinewidth": 0,
             "ticks": ""
            },
            "colorscale": [
             [
              0,
              "#0d0887"
             ],
             [
              0.1111111111111111,
              "#46039f"
             ],
             [
              0.2222222222222222,
              "#7201a8"
             ],
             [
              0.3333333333333333,
              "#9c179e"
             ],
             [
              0.4444444444444444,
              "#bd3786"
             ],
             [
              0.5555555555555556,
              "#d8576b"
             ],
             [
              0.6666666666666666,
              "#ed7953"
             ],
             [
              0.7777777777777778,
              "#fb9f3a"
             ],
             [
              0.8888888888888888,
              "#fdca26"
             ],
             [
              1,
              "#f0f921"
             ]
            ],
            "type": "heatmap"
           }
          ],
          "heatmapgl": [
           {
            "colorbar": {
             "outlinewidth": 0,
             "ticks": ""
            },
            "colorscale": [
             [
              0,
              "#0d0887"
             ],
             [
              0.1111111111111111,
              "#46039f"
             ],
             [
              0.2222222222222222,
              "#7201a8"
             ],
             [
              0.3333333333333333,
              "#9c179e"
             ],
             [
              0.4444444444444444,
              "#bd3786"
             ],
             [
              0.5555555555555556,
              "#d8576b"
             ],
             [
              0.6666666666666666,
              "#ed7953"
             ],
             [
              0.7777777777777778,
              "#fb9f3a"
             ],
             [
              0.8888888888888888,
              "#fdca26"
             ],
             [
              1,
              "#f0f921"
             ]
            ],
            "type": "heatmapgl"
           }
          ],
          "histogram": [
           {
            "marker": {
             "pattern": {
              "fillmode": "overlay",
              "size": 10,
              "solidity": 0.2
             }
            },
            "type": "histogram"
           }
          ],
          "histogram2d": [
           {
            "colorbar": {
             "outlinewidth": 0,
             "ticks": ""
            },
            "colorscale": [
             [
              0,
              "#0d0887"
             ],
             [
              0.1111111111111111,
              "#46039f"
             ],
             [
              0.2222222222222222,
              "#7201a8"
             ],
             [
              0.3333333333333333,
              "#9c179e"
             ],
             [
              0.4444444444444444,
              "#bd3786"
             ],
             [
              0.5555555555555556,
              "#d8576b"
             ],
             [
              0.6666666666666666,
              "#ed7953"
             ],
             [
              0.7777777777777778,
              "#fb9f3a"
             ],
             [
              0.8888888888888888,
              "#fdca26"
             ],
             [
              1,
              "#f0f921"
             ]
            ],
            "type": "histogram2d"
           }
          ],
          "histogram2dcontour": [
           {
            "colorbar": {
             "outlinewidth": 0,
             "ticks": ""
            },
            "colorscale": [
             [
              0,
              "#0d0887"
             ],
             [
              0.1111111111111111,
              "#46039f"
             ],
             [
              0.2222222222222222,
              "#7201a8"
             ],
             [
              0.3333333333333333,
              "#9c179e"
             ],
             [
              0.4444444444444444,
              "#bd3786"
             ],
             [
              0.5555555555555556,
              "#d8576b"
             ],
             [
              0.6666666666666666,
              "#ed7953"
             ],
             [
              0.7777777777777778,
              "#fb9f3a"
             ],
             [
              0.8888888888888888,
              "#fdca26"
             ],
             [
              1,
              "#f0f921"
             ]
            ],
            "type": "histogram2dcontour"
           }
          ],
          "mesh3d": [
           {
            "colorbar": {
             "outlinewidth": 0,
             "ticks": ""
            },
            "type": "mesh3d"
           }
          ],
          "parcoords": [
           {
            "line": {
             "colorbar": {
              "outlinewidth": 0,
              "ticks": ""
             }
            },
            "type": "parcoords"
           }
          ],
          "pie": [
           {
            "automargin": true,
            "type": "pie"
           }
          ],
          "scatter": [
           {
            "fillpattern": {
             "fillmode": "overlay",
             "size": 10,
             "solidity": 0.2
            },
            "type": "scatter"
           }
          ],
          "scatter3d": [
           {
            "line": {
             "colorbar": {
              "outlinewidth": 0,
              "ticks": ""
             }
            },
            "marker": {
             "colorbar": {
              "outlinewidth": 0,
              "ticks": ""
             }
            },
            "type": "scatter3d"
           }
          ],
          "scattercarpet": [
           {
            "marker": {
             "colorbar": {
              "outlinewidth": 0,
              "ticks": ""
             }
            },
            "type": "scattercarpet"
           }
          ],
          "scattergeo": [
           {
            "marker": {
             "colorbar": {
              "outlinewidth": 0,
              "ticks": ""
             }
            },
            "type": "scattergeo"
           }
          ],
          "scattergl": [
           {
            "marker": {
             "colorbar": {
              "outlinewidth": 0,
              "ticks": ""
             }
            },
            "type": "scattergl"
           }
          ],
          "scattermapbox": [
           {
            "marker": {
             "colorbar": {
              "outlinewidth": 0,
              "ticks": ""
             }
            },
            "type": "scattermapbox"
           }
          ],
          "scatterpolar": [
           {
            "marker": {
             "colorbar": {
              "outlinewidth": 0,
              "ticks": ""
             }
            },
            "type": "scatterpolar"
           }
          ],
          "scatterpolargl": [
           {
            "marker": {
             "colorbar": {
              "outlinewidth": 0,
              "ticks": ""
             }
            },
            "type": "scatterpolargl"
           }
          ],
          "scatterternary": [
           {
            "marker": {
             "colorbar": {
              "outlinewidth": 0,
              "ticks": ""
             }
            },
            "type": "scatterternary"
           }
          ],
          "surface": [
           {
            "colorbar": {
             "outlinewidth": 0,
             "ticks": ""
            },
            "colorscale": [
             [
              0,
              "#0d0887"
             ],
             [
              0.1111111111111111,
              "#46039f"
             ],
             [
              0.2222222222222222,
              "#7201a8"
             ],
             [
              0.3333333333333333,
              "#9c179e"
             ],
             [
              0.4444444444444444,
              "#bd3786"
             ],
             [
              0.5555555555555556,
              "#d8576b"
             ],
             [
              0.6666666666666666,
              "#ed7953"
             ],
             [
              0.7777777777777778,
              "#fb9f3a"
             ],
             [
              0.8888888888888888,
              "#fdca26"
             ],
             [
              1,
              "#f0f921"
             ]
            ],
            "type": "surface"
           }
          ],
          "table": [
           {
            "cells": {
             "fill": {
              "color": "#EBF0F8"
             },
             "line": {
              "color": "white"
             }
            },
            "header": {
             "fill": {
              "color": "#C8D4E3"
             },
             "line": {
              "color": "white"
             }
            },
            "type": "table"
           }
          ]
         },
         "layout": {
          "annotationdefaults": {
           "arrowcolor": "#2a3f5f",
           "arrowhead": 0,
           "arrowwidth": 1
          },
          "autotypenumbers": "strict",
          "coloraxis": {
           "colorbar": {
            "outlinewidth": 0,
            "ticks": ""
           }
          },
          "colorscale": {
           "diverging": [
            [
             0,
             "#8e0152"
            ],
            [
             0.1,
             "#c51b7d"
            ],
            [
             0.2,
             "#de77ae"
            ],
            [
             0.3,
             "#f1b6da"
            ],
            [
             0.4,
             "#fde0ef"
            ],
            [
             0.5,
             "#f7f7f7"
            ],
            [
             0.6,
             "#e6f5d0"
            ],
            [
             0.7,
             "#b8e186"
            ],
            [
             0.8,
             "#7fbc41"
            ],
            [
             0.9,
             "#4d9221"
            ],
            [
             1,
             "#276419"
            ]
           ],
           "sequential": [
            [
             0,
             "#0d0887"
            ],
            [
             0.1111111111111111,
             "#46039f"
            ],
            [
             0.2222222222222222,
             "#7201a8"
            ],
            [
             0.3333333333333333,
             "#9c179e"
            ],
            [
             0.4444444444444444,
             "#bd3786"
            ],
            [
             0.5555555555555556,
             "#d8576b"
            ],
            [
             0.6666666666666666,
             "#ed7953"
            ],
            [
             0.7777777777777778,
             "#fb9f3a"
            ],
            [
             0.8888888888888888,
             "#fdca26"
            ],
            [
             1,
             "#f0f921"
            ]
           ],
           "sequentialminus": [
            [
             0,
             "#0d0887"
            ],
            [
             0.1111111111111111,
             "#46039f"
            ],
            [
             0.2222222222222222,
             "#7201a8"
            ],
            [
             0.3333333333333333,
             "#9c179e"
            ],
            [
             0.4444444444444444,
             "#bd3786"
            ],
            [
             0.5555555555555556,
             "#d8576b"
            ],
            [
             0.6666666666666666,
             "#ed7953"
            ],
            [
             0.7777777777777778,
             "#fb9f3a"
            ],
            [
             0.8888888888888888,
             "#fdca26"
            ],
            [
             1,
             "#f0f921"
            ]
           ]
          },
          "colorway": [
           "#636efa",
           "#EF553B",
           "#00cc96",
           "#ab63fa",
           "#FFA15A",
           "#19d3f3",
           "#FF6692",
           "#B6E880",
           "#FF97FF",
           "#FECB52"
          ],
          "font": {
           "color": "#2a3f5f"
          },
          "geo": {
           "bgcolor": "white",
           "lakecolor": "white",
           "landcolor": "#E5ECF6",
           "showlakes": true,
           "showland": true,
           "subunitcolor": "white"
          },
          "hoverlabel": {
           "align": "left"
          },
          "hovermode": "closest",
          "mapbox": {
           "style": "light"
          },
          "paper_bgcolor": "white",
          "plot_bgcolor": "#E5ECF6",
          "polar": {
           "angularaxis": {
            "gridcolor": "white",
            "linecolor": "white",
            "ticks": ""
           },
           "bgcolor": "#E5ECF6",
           "radialaxis": {
            "gridcolor": "white",
            "linecolor": "white",
            "ticks": ""
           }
          },
          "scene": {
           "xaxis": {
            "backgroundcolor": "#E5ECF6",
            "gridcolor": "white",
            "gridwidth": 2,
            "linecolor": "white",
            "showbackground": true,
            "ticks": "",
            "zerolinecolor": "white"
           },
           "yaxis": {
            "backgroundcolor": "#E5ECF6",
            "gridcolor": "white",
            "gridwidth": 2,
            "linecolor": "white",
            "showbackground": true,
            "ticks": "",
            "zerolinecolor": "white"
           },
           "zaxis": {
            "backgroundcolor": "#E5ECF6",
            "gridcolor": "white",
            "gridwidth": 2,
            "linecolor": "white",
            "showbackground": true,
            "ticks": "",
            "zerolinecolor": "white"
           }
          },
          "shapedefaults": {
           "line": {
            "color": "#2a3f5f"
           }
          },
          "ternary": {
           "aaxis": {
            "gridcolor": "white",
            "linecolor": "white",
            "ticks": ""
           },
           "baxis": {
            "gridcolor": "white",
            "linecolor": "white",
            "ticks": ""
           },
           "bgcolor": "#E5ECF6",
           "caxis": {
            "gridcolor": "white",
            "linecolor": "white",
            "ticks": ""
           }
          },
          "title": {
           "x": 0.05
          },
          "xaxis": {
           "automargin": true,
           "gridcolor": "white",
           "linecolor": "white",
           "ticks": "",
           "title": {
            "standoff": 15
           },
           "zerolinecolor": "white",
           "zerolinewidth": 2
          },
          "yaxis": {
           "automargin": true,
           "gridcolor": "white",
           "linecolor": "white",
           "ticks": "",
           "title": {
            "standoff": 15
           },
           "zerolinecolor": "white",
           "zerolinewidth": 2
          }
         }
        },
        "width": 800
       }
      }
     },
     "metadata": {},
     "output_type": "display_data"
    }
   ],
   "source": [
    "import plotly.express as px\n",
    "\n",
    "# Coordonnées de Paris\n",
    "paris_lat = 48.8566\n",
    "paris_lon = 2.3522\n",
    "\n",
    "# Créer une carte avec Plotly Express\n",
    "fig = px.scatter_mapbox(location, lat='latitude', lon='longitude', hover_name='object_address',\n",
    "                        hover_data={'nombre de reviews': True, 'note moyenne': ':.1f'}, zoom=10,\n",
    "                        center=dict(lat=paris_lat, lon=paris_lon))\n",
    "\n",
    "# Spécifier le style de la carte\n",
    "fig.update_layout(mapbox_style='carto-positron')\n",
    "\n",
    "# Personnaliser le format du texte dans l'info-bulle\n",
    "fig.update_traces(hovertemplate='<b>%{hovertext}</b><br>Nombre de reviews: %{customdata[0]}<br>Note moyenne: %{customdata[1]:.1f}')\n",
    "\n",
    "# Ajuster la taille de la figure\n",
    "fig.update_layout(\n",
    "    autosize=True,\n",
    "    width=800,\n",
    "    height=800,\n",
    ")\n",
    "\n",
    "# Afficher la carte\n",
    "fig.show()\n"
   ]
  },
  {
   "cell_type": "code",
   "execution_count": null,
   "metadata": {},
   "outputs": [],
   "source": []
  },
  {
   "cell_type": "code",
   "execution_count": null,
   "metadata": {},
   "outputs": [],
   "source": [
    "import pandas as pd\n",
    "from datetime import datetime\n",
    "from dateutil.relativedelta import relativedelta\n",
    "import re\n",
    "current_datetime = datetime.now()\n",
    "data['date'] = data['date'].apply(lambda x: current_datetime - relativedelta(years=int(re.findall(r'\\d+', x)[0])))\n",
    "\n",
    "# Extraire uniquement la partie de la date\n",
    "data['date'] = data['date'].apply(lambda x: x.date())\n"
   ]
  },
  {
   "cell_type": "code",
   "execution_count": null,
   "metadata": {},
   "outputs": [],
   "source": [
    "import pandas as pd\n",
    "from datetime import datetime\n",
    "from dateutil.relativedelta import relativedelta\n",
    "\n",
    "# Exemple de DataFrame avec une colonne 'date' contenant des valeurs \"6 years ago\"\n",
    "data = pd.DataFrame({'date': ['6 years ago', '3 years ago', '2 years ago']})\n",
    "\n",
    "current_datetime = datetime.now()\n",
    "data['date'] = data['date'].apply(lambda x: current_datetime - relativedelta(years=int(x.split()[0])))\n",
    "\n",
    "# Extraire uniquement la partie de la date\n",
    "data['date'] = data['date'].apply(lambda x: x.date())\n",
    "\n",
    "data\n"
   ]
  },
  {
   "cell_type": "code",
   "execution_count": null,
   "metadata": {},
   "outputs": [],
   "source": [
    "current_datetime = datetime.now()\n",
    "data['date'] = data['date'].apply(lambda x: current_datetime - relativedelta(years=int(x.split()[0])))\n",
    "\n",
    "data"
   ]
  },
  {
   "cell_type": "code",
   "execution_count": null,
   "metadata": {},
   "outputs": [],
   "source": [
    "scap = pd.read_csv('/Users/camille/repo/Hetic/projet_gouv/scraping/scrape_paris.csv')"
   ]
  },
  {
   "cell_type": "code",
   "execution_count": 502,
   "metadata": {},
   "outputs": [],
   "source": [
    "col = ['date', 'rate', 'review_text', 'object_address']\n",
    "path = '/Users/camille/repo/Hetic/projet_gouv/scraping/Data/google_reviews.csv'\n",
    "data =pd.read_csv(path, usecols=col)\n",
    "\n",
    "data['date'] = data['date'].replace('a year ago', '1 year ago')\n",
    "data['date'] = data['date'].replace('a month ago','1 month ago')\n",
    "data['date'] = data['date'].replace('a week ago','1 week ago')\n",
    "\n",
    "current_datetime = datetime.now()\n",
    "data['date'] = data['date'].apply(lambda x: current_datetime - relativedelta(years=int(x.split()[0])) if 'year' in x\n",
    "                                     else current_datetime - relativedelta(months=int(x.split()[0])) if 'month' in x\n",
    "                                     else current_datetime - relativedelta(weeks=int(x.split()[0])) if 'week' in x\n",
    "                                     else current_datetime - relativedelta(days=int(x.split()[0])) if 'day' in x\n",
    "                                     else None)\n",
    "\n",
    "\n",
    "\n",
    "# Extraire uniquement la partie de la date\n",
    "data['date'] = data['date'].apply(lambda x: x.date())\n",
    "\n",
    "\n",
    "data['date'] = pd.to_datetime(data['date'])"
   ]
  },
  {
   "cell_type": "code",
   "execution_count": 503,
   "metadata": {},
   "outputs": [],
   "source": [
    "loc = pd.read_csv('/Users/camille/repo/Hetic/projet_gouv/scraping/Data/location.csv', sep=';')"
   ]
  },
  {
   "cell_type": "code",
   "execution_count": 504,
   "metadata": {},
   "outputs": [],
   "source": [
    "loc.rename(columns={'adresse':'object_address'}, inplace=True)"
   ]
  },
  {
   "cell_type": "code",
   "execution_count": 451,
   "metadata": {},
   "outputs": [],
   "source": [
    "address_to_lieu = loc.set_index('object_address')['name'].to_dict()\n",
    "\n",
    "# Ajouter la colonne \"name\" au DataFrame location en utilisant la correspondance de object_address\n",
    "location['object_address'] = location['object_address'].map(address_to_lieu)"
   ]
  },
  {
   "cell_type": "code",
   "execution_count": 452,
   "metadata": {},
   "outputs": [
    {
     "data": {
      "text/html": [
       "<div>\n",
       "<style scoped>\n",
       "    .dataframe tbody tr th:only-of-type {\n",
       "        vertical-align: middle;\n",
       "    }\n",
       "\n",
       "    .dataframe tbody tr th {\n",
       "        vertical-align: top;\n",
       "    }\n",
       "\n",
       "    .dataframe thead th {\n",
       "        text-align: right;\n",
       "    }\n",
       "</style>\n",
       "<table border=\"1\" class=\"dataframe\">\n",
       "  <thead>\n",
       "    <tr style=\"text-align: right;\">\n",
       "      <th></th>\n",
       "      <th>date</th>\n",
       "      <th>rate</th>\n",
       "      <th>review_text</th>\n",
       "      <th>object_address</th>\n",
       "    </tr>\n",
       "  </thead>\n",
       "  <tbody>\n",
       "    <tr>\n",
       "      <th>0</th>\n",
       "      <td>2017-05-21</td>\n",
       "      <td>5</td>\n",
       "      <td>Perfect service! The team is so professional. ...</td>\n",
       "      <td>10 Rue Brancion, 75015 Paris</td>\n",
       "    </tr>\n",
       "    <tr>\n",
       "      <th>1</th>\n",
       "      <td>2023-03-21</td>\n",
       "      <td>1</td>\n",
       "      <td>Inadmissible et honteux tout simplement. Atten...</td>\n",
       "      <td>10 Rue Brancion, 75015 Paris</td>\n",
       "    </tr>\n",
       "    <tr>\n",
       "      <th>2</th>\n",
       "      <td>2023-01-21</td>\n",
       "      <td>2</td>\n",
       "      <td>Accueilli par une personne féminine d'un âge c...</td>\n",
       "      <td>10 Rue Brancion, 75015 Paris</td>\n",
       "    </tr>\n",
       "    <tr>\n",
       "      <th>3</th>\n",
       "      <td>2023-05-07</td>\n",
       "      <td>1</td>\n",
       "      <td>Je suis Hassan Bashir, j'ai besoin de rendez-v...</td>\n",
       "      <td>10 Rue Brancion, 75015 Paris</td>\n",
       "    </tr>\n",
       "    <tr>\n",
       "      <th>4</th>\n",
       "      <td>2022-05-21</td>\n",
       "      <td>1</td>\n",
       "      <td>De loin la pire agence.\\nD'une incompétence sa...</td>\n",
       "      <td>10 Rue Brancion, 75015 Paris</td>\n",
       "    </tr>\n",
       "    <tr>\n",
       "      <th>...</th>\n",
       "      <td>...</td>\n",
       "      <td>...</td>\n",
       "      <td>...</td>\n",
       "      <td>...</td>\n",
       "    </tr>\n",
       "    <tr>\n",
       "      <th>672</th>\n",
       "      <td>2017-05-21</td>\n",
       "      <td>5</td>\n",
       "      <td>NaN</td>\n",
       "      <td>9 Rue Friant, 75014 Paris</td>\n",
       "    </tr>\n",
       "    <tr>\n",
       "      <th>673</th>\n",
       "      <td>2019-05-21</td>\n",
       "      <td>4</td>\n",
       "      <td>NaN</td>\n",
       "      <td>9 Rue Friant, 75014 Paris</td>\n",
       "    </tr>\n",
       "    <tr>\n",
       "      <th>674</th>\n",
       "      <td>2018-05-21</td>\n",
       "      <td>1</td>\n",
       "      <td>NaN</td>\n",
       "      <td>9 Rue Friant, 75014 Paris</td>\n",
       "    </tr>\n",
       "    <tr>\n",
       "      <th>675</th>\n",
       "      <td>2022-10-21</td>\n",
       "      <td>1</td>\n",
       "      <td>NaN</td>\n",
       "      <td>9 Rue Friant, 75014 Paris</td>\n",
       "    </tr>\n",
       "    <tr>\n",
       "      <th>676</th>\n",
       "      <td>2018-05-21</td>\n",
       "      <td>2</td>\n",
       "      <td>NaN</td>\n",
       "      <td>9 Rue Friant, 75014 Paris</td>\n",
       "    </tr>\n",
       "  </tbody>\n",
       "</table>\n",
       "<p>677 rows × 4 columns</p>\n",
       "</div>"
      ],
      "text/plain": [
       "          date  rate                                        review_text   \n",
       "0   2017-05-21     5  Perfect service! The team is so professional. ...  \\\n",
       "1   2023-03-21     1  Inadmissible et honteux tout simplement. Atten...   \n",
       "2   2023-01-21     2  Accueilli par une personne féminine d'un âge c...   \n",
       "3   2023-05-07     1  Je suis Hassan Bashir, j'ai besoin de rendez-v...   \n",
       "4   2022-05-21     1  De loin la pire agence.\\nD'une incompétence sa...   \n",
       "..         ...   ...                                                ...   \n",
       "672 2017-05-21     5                                                NaN   \n",
       "673 2019-05-21     4                                                NaN   \n",
       "674 2018-05-21     1                                                NaN   \n",
       "675 2022-10-21     1                                                NaN   \n",
       "676 2018-05-21     2                                                NaN   \n",
       "\n",
       "                   object_address  \n",
       "0    10 Rue Brancion, 75015 Paris  \n",
       "1    10 Rue Brancion, 75015 Paris  \n",
       "2    10 Rue Brancion, 75015 Paris  \n",
       "3    10 Rue Brancion, 75015 Paris  \n",
       "4    10 Rue Brancion, 75015 Paris  \n",
       "..                            ...  \n",
       "672     9 Rue Friant, 75014 Paris  \n",
       "673     9 Rue Friant, 75014 Paris  \n",
       "674     9 Rue Friant, 75014 Paris  \n",
       "675     9 Rue Friant, 75014 Paris  \n",
       "676     9 Rue Friant, 75014 Paris  \n",
       "\n",
       "[677 rows x 4 columns]"
      ]
     },
     "execution_count": 452,
     "metadata": {},
     "output_type": "execute_result"
    }
   ],
   "source": [
    "data"
   ]
  },
  {
   "cell_type": "code",
   "execution_count": 467,
   "metadata": {},
   "outputs": [
    {
     "data": {
      "text/html": [
       "<div>\n",
       "<style scoped>\n",
       "    .dataframe tbody tr th:only-of-type {\n",
       "        vertical-align: middle;\n",
       "    }\n",
       "\n",
       "    .dataframe tbody tr th {\n",
       "        vertical-align: top;\n",
       "    }\n",
       "\n",
       "    .dataframe thead th {\n",
       "        text-align: right;\n",
       "    }\n",
       "</style>\n",
       "<table border=\"1\" class=\"dataframe\">\n",
       "  <thead>\n",
       "    <tr style=\"text-align: right;\">\n",
       "      <th></th>\n",
       "      <th>Unnamed: 0</th>\n",
       "      <th>name</th>\n",
       "      <th>object_address</th>\n",
       "      <th>location</th>\n",
       "    </tr>\n",
       "  </thead>\n",
       "  <tbody>\n",
       "    <tr>\n",
       "      <th>0</th>\n",
       "      <td>0</td>\n",
       "      <td>pole emploi AVS Placement Artistes</td>\n",
       "      <td>10 rue brancion 75015 paris</td>\n",
       "      <td>pole emploi AVS Placement Artistes 10 RUE BRAN...</td>\n",
       "    </tr>\n",
       "    <tr>\n",
       "      <th>1</th>\n",
       "      <td>1</td>\n",
       "      <td>Pole emploi Beaumarchais</td>\n",
       "      <td>11 rue pelee 75011 paris</td>\n",
       "      <td>Pole emploi Beaumarchais 11 RUE PELEE 75011 Paris</td>\n",
       "    </tr>\n",
       "    <tr>\n",
       "      <th>2</th>\n",
       "      <td>2</td>\n",
       "      <td>Pole emploi Cardinet</td>\n",
       "      <td>8 rue bernard buffet 75017 paris</td>\n",
       "      <td>Pole emploi Cardinet 8 RUE Bernard Buffet 7501...</td>\n",
       "    </tr>\n",
       "    <tr>\n",
       "      <th>3</th>\n",
       "      <td>3</td>\n",
       "      <td>pole emploi Armand Carrel</td>\n",
       "      <td>44 rue armand carrel 75019 paris</td>\n",
       "      <td>pole emploi Armand Carrel 44 RUE Armand Carrel...</td>\n",
       "    </tr>\n",
       "    <tr>\n",
       "      <th>4</th>\n",
       "      <td>4</td>\n",
       "      <td>Pole emploi Vitruve</td>\n",
       "      <td>60 rue vitruve 75020 paris</td>\n",
       "      <td>Pole emploi Vitruve 60 RUE Vitruve 75020 Paris</td>\n",
       "    </tr>\n",
       "    <tr>\n",
       "      <th>5</th>\n",
       "      <td>5</td>\n",
       "      <td>Pole emploi Daviel</td>\n",
       "      <td>27 rue daviel 75013 paris</td>\n",
       "      <td>Pole emploi Daviel 27 RUE Daviel 75013 Paris</td>\n",
       "    </tr>\n",
       "    <tr>\n",
       "      <th>6</th>\n",
       "      <td>6</td>\n",
       "      <td>Pole emploi Laumière</td>\n",
       "      <td>75 avenue jean jaures 75019 paris</td>\n",
       "      <td>Pole emploi Laumière 75 AVENUE JEAN JAURES 750...</td>\n",
       "    </tr>\n",
       "    <tr>\n",
       "      <th>7</th>\n",
       "      <td>7</td>\n",
       "      <td>Pole emploi Genevoix</td>\n",
       "      <td>11 rue maurice genevoix 75018 paris</td>\n",
       "      <td>Pole emploi Genevoix 11 RUE Maurice Genevoix 7...</td>\n",
       "    </tr>\n",
       "    <tr>\n",
       "      <th>8</th>\n",
       "      <td>8</td>\n",
       "      <td>Pole emploi Diderot</td>\n",
       "      <td>3 boulevard diderot 75012 paris</td>\n",
       "      <td>Pole emploi Diderot 3 BOULEVARD Diderot 75012 ...</td>\n",
       "    </tr>\n",
       "    <tr>\n",
       "      <th>9</th>\n",
       "      <td>9</td>\n",
       "      <td>Pole emploi Paul Lelong</td>\n",
       "      <td>4 rue paul lelong 75002 paris</td>\n",
       "      <td>Pole emploi Paul Lelong 4 RUE Paul Lelong 7500...</td>\n",
       "    </tr>\n",
       "    <tr>\n",
       "      <th>10</th>\n",
       "      <td>10</td>\n",
       "      <td>Pole emploi Vicq d'Azir</td>\n",
       "      <td>26 rue vicq d'azir 75010 paris</td>\n",
       "      <td>Pole emploi Vicq d'Azir 26 RUE Vicq d'Azir 750...</td>\n",
       "    </tr>\n",
       "    <tr>\n",
       "      <th>11</th>\n",
       "      <td>11</td>\n",
       "      <td>Pole emploi Brancion</td>\n",
       "      <td>10 rue brancion 75015 paris</td>\n",
       "      <td>Pole emploi Brancion 10 RUE Brancion 75015 Paris</td>\n",
       "    </tr>\n",
       "    <tr>\n",
       "      <th>12</th>\n",
       "      <td>12</td>\n",
       "      <td>Pole emploi Ney</td>\n",
       "      <td>78 boulevard ney 75018 paris</td>\n",
       "      <td>Pole emploi Ney 78 BOULEVARD Ney 75018 PARIS</td>\n",
       "    </tr>\n",
       "    <tr>\n",
       "      <th>13</th>\n",
       "      <td>13</td>\n",
       "      <td>Pole emploi Piat</td>\n",
       "      <td>51 rue piat 75020 paris</td>\n",
       "      <td>Pôle emploi - Paris 20ème Piat</td>\n",
       "    </tr>\n",
       "    <tr>\n",
       "      <th>14</th>\n",
       "      <td>14</td>\n",
       "      <td>Pole emploi Jean Moulin</td>\n",
       "      <td>9 rue friant 75014 paris</td>\n",
       "      <td>Pole emploi Jean Moulin 9 RUE FRIANT 75014 PARIS</td>\n",
       "    </tr>\n",
       "  </tbody>\n",
       "</table>\n",
       "</div>"
      ],
      "text/plain": [
       "    Unnamed: 0                                name   \n",
       "0            0  pole emploi AVS Placement Artistes  \\\n",
       "1            1            Pole emploi Beaumarchais   \n",
       "2            2                Pole emploi Cardinet   \n",
       "3            3           pole emploi Armand Carrel   \n",
       "4            4                 Pole emploi Vitruve   \n",
       "5            5                  Pole emploi Daviel   \n",
       "6            6                Pole emploi Laumière   \n",
       "7            7                Pole emploi Genevoix   \n",
       "8            8                 Pole emploi Diderot   \n",
       "9            9             Pole emploi Paul Lelong   \n",
       "10          10             Pole emploi Vicq d'Azir   \n",
       "11          11                Pole emploi Brancion   \n",
       "12          12                     Pole emploi Ney   \n",
       "13          13                    Pole emploi Piat   \n",
       "14          14             Pole emploi Jean Moulin   \n",
       "\n",
       "                         object_address   \n",
       "0           10 rue brancion 75015 paris  \\\n",
       "1              11 rue pelee 75011 paris   \n",
       "2      8 rue bernard buffet 75017 paris   \n",
       "3      44 rue armand carrel 75019 paris   \n",
       "4            60 rue vitruve 75020 paris   \n",
       "5             27 rue daviel 75013 paris   \n",
       "6     75 avenue jean jaures 75019 paris   \n",
       "7   11 rue maurice genevoix 75018 paris   \n",
       "8       3 boulevard diderot 75012 paris   \n",
       "9         4 rue paul lelong 75002 paris   \n",
       "10       26 rue vicq d'azir 75010 paris   \n",
       "11          10 rue brancion 75015 paris   \n",
       "12         78 boulevard ney 75018 paris   \n",
       "13              51 rue piat 75020 paris   \n",
       "14             9 rue friant 75014 paris   \n",
       "\n",
       "                                             location  \n",
       "0   pole emploi AVS Placement Artistes 10 RUE BRAN...  \n",
       "1   Pole emploi Beaumarchais 11 RUE PELEE 75011 Paris  \n",
       "2   Pole emploi Cardinet 8 RUE Bernard Buffet 7501...  \n",
       "3   pole emploi Armand Carrel 44 RUE Armand Carrel...  \n",
       "4      Pole emploi Vitruve 60 RUE Vitruve 75020 Paris  \n",
       "5        Pole emploi Daviel 27 RUE Daviel 75013 Paris  \n",
       "6   Pole emploi Laumière 75 AVENUE JEAN JAURES 750...  \n",
       "7   Pole emploi Genevoix 11 RUE Maurice Genevoix 7...  \n",
       "8   Pole emploi Diderot 3 BOULEVARD Diderot 75012 ...  \n",
       "9   Pole emploi Paul Lelong 4 RUE Paul Lelong 7500...  \n",
       "10  Pole emploi Vicq d'Azir 26 RUE Vicq d'Azir 750...  \n",
       "11   Pole emploi Brancion 10 RUE Brancion 75015 Paris  \n",
       "12       Pole emploi Ney 78 BOULEVARD Ney 75018 PARIS  \n",
       "13                     Pôle emploi - Paris 20ème Piat  \n",
       "14   Pole emploi Jean Moulin 9 RUE FRIANT 75014 PARIS  "
      ]
     },
     "execution_count": 467,
     "metadata": {},
     "output_type": "execute_result"
    }
   ],
   "source": [
    "loc"
   ]
  },
  {
   "cell_type": "code",
   "execution_count": 506,
   "metadata": {},
   "outputs": [],
   "source": [
    "loc['object_address'] = loc['object_address'].str.lower().str.strip()\n",
    "data['object_address'] = data['object_address'].str.lower().str.strip()\n",
    "#remove comma\n",
    "data['object_address'] = data['object_address'].str.replace(',', '')"
   ]
  },
  {
   "cell_type": "code",
   "execution_count": 530,
   "metadata": {
    "vscode": {
     "languageId": "ruby"
    }
   },
   "outputs": [],
   "source": [
    "loc['object_address'] = loc['object_address'].str.replace('11 rue pelée 75011 paris', '11 rue pelee 75011 paris')\n",
    "loc['object_address'] = loc['object_address'].str.replace('3 bd diderot 75012 paris', '3 boulevard diderot 75012 paris')\n",
    "loc['object_address'] = loc['object_address'].str.replace('75 av. jean jaurès 75019 paris', '75 avenue jean jaures 75019 paris')\n",
    "loc['object_address'] = loc['object_address'].str.replace('78 bd ney 75018 paris', '78 boulevard ney 75018 paris')"
   ]
  },
  {
   "cell_type": "code",
   "execution_count": 529,
   "metadata": {
    "vscode": {
     "languageId": "ruby"
    }
   },
   "outputs": [
    {
     "data": {
      "text/plain": [
       "array(['10 rue brancion 75015 paris', '11 rue pelée 75011 paris',\n",
       "       '8 rue bernard buffet 75017 paris',\n",
       "       '44 rue armand carrel 75019 paris', '60 rue vitruve 75020 paris',\n",
       "       '27 rue daviel 75013 paris', '75 av. jean jaurès 75019 paris',\n",
       "       '11 rue maurice genevoix 75018 paris', '3 bd diderot 75012 paris',\n",
       "       '4 rue paul lelong 75002 paris', \"26 rue vicq d'azir 75010 paris\",\n",
       "       '78 bd ney 75018 paris', '51 rue piat 75020 paris',\n",
       "       '9 rue friant 75014 paris', 'ƒadam'], dtype=object)"
      ]
     },
     "execution_count": 529,
     "metadata": {},
     "output_type": "execute_result"
    }
   ],
   "source": [
    "lieux"
   ]
  },
  {
   "cell_type": "code",
   "execution_count": 544,
   "metadata": {},
   "outputs": [],
   "source": [
    "address_to_lieu = loc.set_index('object_address')['name'].to_dict()\n",
    "\n",
    "# Ajouter la colonne \"name\" au DataFrame location en utilisant la correspondance de object_address\n",
    "data['object_address'] = data['object_address'].map(address_to_lieu)"
   ]
  },
  {
   "cell_type": "code",
   "execution_count": 534,
   "metadata": {},
   "outputs": [],
   "source": [
    "lieux = data['object_address'].unique()"
   ]
  },
  {
   "cell_type": "code",
   "execution_count": 535,
   "metadata": {},
   "outputs": [
    {
     "data": {
      "text/plain": [
       "array(['10 rue brancion 75015 paris', '11 rue pelee 75011 paris',\n",
       "       '8 rue bernard buffet 75017 paris',\n",
       "       '44 rue armand carrel 75019 paris', '60 rue vitruve 75020 paris',\n",
       "       '27 rue daviel 75013 paris', '75 avenue jean jaures 75019 paris',\n",
       "       '11 rue maurice genevoix 75018 paris',\n",
       "       '3 boulevard diderot 75012 paris', '4 rue paul lelong 75002 paris',\n",
       "       \"26 rue vicq d'azir 75010 paris\", '78 boulevard ney 75018 paris',\n",
       "       '51 rue piat 75020 paris', '9 rue friant 75014 paris', 'ƒadam'],\n",
       "      dtype=object)"
      ]
     },
     "execution_count": 535,
     "metadata": {},
     "output_type": "execute_result"
    }
   ],
   "source": [
    "lieux"
   ]
  },
  {
   "cell_type": "code",
   "execution_count": 536,
   "metadata": {},
   "outputs": [
    {
     "data": {
      "text/plain": [
       "{'10 rue brancion 75015 paris': 'Pole emploi Brancion',\n",
       " '11 rue pelee 75011 paris': 'Pole emploi Beaumarchais',\n",
       " '8 rue bernard buffet 75017 paris': 'Pole emploi Cardinet',\n",
       " '44 rue armand carrel 75019 paris': 'pole emploi Armand Carrel',\n",
       " '60 rue vitruve 75020 paris': 'Pole emploi Vitruve',\n",
       " '27 rue daviel 75013 paris': 'Pole emploi Daviel',\n",
       " '75 avenue jean jaures 75019 paris': 'Pole emploi Laumière',\n",
       " '11 rue maurice genevoix 75018 paris': 'Pole emploi Genevoix',\n",
       " '3 boulevard diderot 75012 paris': 'Pole emploi Diderot',\n",
       " '4 rue paul lelong 75002 paris': 'Pole emploi Paul Lelong',\n",
       " \"26 rue vicq d'azir 75010 paris\": \"Pole emploi Vicq d'Azir\",\n",
       " '78 boulevard ney 75018 paris': 'Pole emploi Ney',\n",
       " '51 rue piat 75020 paris': 'Pole emploi Piat',\n",
       " '9 rue friant 75014 paris': 'Pole emploi Jean Moulin'}"
      ]
     },
     "execution_count": 536,
     "metadata": {},
     "output_type": "execute_result"
    }
   ],
   "source": [
    "address_to_lieu"
   ]
  },
  {
   "cell_type": "code",
   "execution_count": 538,
   "metadata": {},
   "outputs": [
    {
     "name": "stdout",
     "output_type": "stream",
     "text": [
      "Lieu 'ƒadam' non trouvé dans address_to_lieu\n"
     ]
    }
   ],
   "source": [
    "for lieu in lieux:\n",
    "    if lieu not in address_to_lieu:\n",
    "        print(f\"Lieu '{lieu}' non trouvé dans address_to_lieu\")\n"
   ]
  },
  {
   "cell_type": "code",
   "execution_count": 532,
   "metadata": {},
   "outputs": [],
   "source": [
    "data['object_address'] = data['object_address'].str.replace('11 rue pelée 75011 paris', '11 rue pelee 75011 paris')\n",
    "data['object_address'] = data['object_address'].str.replace('3 bd diderot 75012 paris', '3 boulevard diderot 75012 paris')\n",
    "data['object_address'] = data['object_address'].str.replace('75 av. jean jaurès 75019 paris', '75 avenue jean jaures 75019 paris')\n",
    "data['object_address'] = data['object_address'].str.replace('78 bd ney 75018 paris', '78 boulevard ney 75018 paris')"
   ]
  },
  {
   "cell_type": "code",
   "execution_count": 547,
   "metadata": {},
   "outputs": [
    {
     "data": {
      "text/plain": [
       "array(['pole emploi brancion', 'pole emploi beaumarchais',\n",
       "       'pole emploi cardinet', 'pole emploi armand carrel',\n",
       "       'pole emploi vitruve', 'pole emploi daviel',\n",
       "       'pole emploi laumière', 'pole emploi genevoix',\n",
       "       'pole emploi diderot', 'pole emploi paul lelong',\n",
       "       \"pole emploi vicq d'azir\", 'pole emploi ney', 'pole emploi piat',\n",
       "       'pole emploi jean moulin', nan], dtype=object)"
      ]
     },
     "execution_count": 547,
     "metadata": {},
     "output_type": "execute_result"
    }
   ],
   "source": [
    "data['object_address'] = data['object_address'].str.lower().str.strip()\n",
    "#enleve les virgules et accents\n",
    "data['object_address'] = data['object_address'].str.replace(',', '')\n",
    "data['object_address'].unique()\n"
   ]
  },
  {
   "cell_type": "code",
   "execution_count": 546,
   "metadata": {},
   "outputs": [],
   "source": [
    "data.drop(data[data['object_address'] == 'ƒadam'].index, inplace=True)\n"
   ]
  },
  {
   "cell_type": "code",
   "execution_count": 548,
   "metadata": {},
   "outputs": [
    {
     "data": {
      "text/html": [
       "<div>\n",
       "<style scoped>\n",
       "    .dataframe tbody tr th:only-of-type {\n",
       "        vertical-align: middle;\n",
       "    }\n",
       "\n",
       "    .dataframe tbody tr th {\n",
       "        vertical-align: top;\n",
       "    }\n",
       "\n",
       "    .dataframe thead th {\n",
       "        text-align: right;\n",
       "    }\n",
       "</style>\n",
       "<table border=\"1\" class=\"dataframe\">\n",
       "  <thead>\n",
       "    <tr style=\"text-align: right;\">\n",
       "      <th></th>\n",
       "      <th>date</th>\n",
       "      <th>rate</th>\n",
       "      <th>review_text</th>\n",
       "      <th>object_address</th>\n",
       "    </tr>\n",
       "  </thead>\n",
       "  <tbody>\n",
       "    <tr>\n",
       "      <th>0</th>\n",
       "      <td>2017-05-21</td>\n",
       "      <td>5</td>\n",
       "      <td>Perfect service! The team is so professional. ...</td>\n",
       "      <td>pole emploi brancion</td>\n",
       "    </tr>\n",
       "    <tr>\n",
       "      <th>1</th>\n",
       "      <td>2023-03-21</td>\n",
       "      <td>1</td>\n",
       "      <td>Inadmissible et honteux tout simplement. Atten...</td>\n",
       "      <td>pole emploi brancion</td>\n",
       "    </tr>\n",
       "    <tr>\n",
       "      <th>2</th>\n",
       "      <td>2023-01-21</td>\n",
       "      <td>2</td>\n",
       "      <td>Accueilli par une personne féminine d'un âge c...</td>\n",
       "      <td>pole emploi brancion</td>\n",
       "    </tr>\n",
       "    <tr>\n",
       "      <th>3</th>\n",
       "      <td>2023-05-07</td>\n",
       "      <td>1</td>\n",
       "      <td>Je suis Hassan Bashir, j'ai besoin de rendez-v...</td>\n",
       "      <td>pole emploi brancion</td>\n",
       "    </tr>\n",
       "    <tr>\n",
       "      <th>4</th>\n",
       "      <td>2022-05-21</td>\n",
       "      <td>1</td>\n",
       "      <td>De loin la pire agence.\\nD'une incompétence sa...</td>\n",
       "      <td>pole emploi brancion</td>\n",
       "    </tr>\n",
       "    <tr>\n",
       "      <th>...</th>\n",
       "      <td>...</td>\n",
       "      <td>...</td>\n",
       "      <td>...</td>\n",
       "      <td>...</td>\n",
       "    </tr>\n",
       "    <tr>\n",
       "      <th>672</th>\n",
       "      <td>2017-05-21</td>\n",
       "      <td>5</td>\n",
       "      <td>NaN</td>\n",
       "      <td>pole emploi jean moulin</td>\n",
       "    </tr>\n",
       "    <tr>\n",
       "      <th>673</th>\n",
       "      <td>2019-05-21</td>\n",
       "      <td>4</td>\n",
       "      <td>NaN</td>\n",
       "      <td>pole emploi jean moulin</td>\n",
       "    </tr>\n",
       "    <tr>\n",
       "      <th>674</th>\n",
       "      <td>2018-05-21</td>\n",
       "      <td>1</td>\n",
       "      <td>NaN</td>\n",
       "      <td>pole emploi jean moulin</td>\n",
       "    </tr>\n",
       "    <tr>\n",
       "      <th>675</th>\n",
       "      <td>2022-10-21</td>\n",
       "      <td>1</td>\n",
       "      <td>NaN</td>\n",
       "      <td>pole emploi jean moulin</td>\n",
       "    </tr>\n",
       "    <tr>\n",
       "      <th>676</th>\n",
       "      <td>2018-05-21</td>\n",
       "      <td>2</td>\n",
       "      <td>NaN</td>\n",
       "      <td>pole emploi jean moulin</td>\n",
       "    </tr>\n",
       "  </tbody>\n",
       "</table>\n",
       "<p>677 rows × 4 columns</p>\n",
       "</div>"
      ],
      "text/plain": [
       "          date  rate                                        review_text   \n",
       "0   2017-05-21     5  Perfect service! The team is so professional. ...  \\\n",
       "1   2023-03-21     1  Inadmissible et honteux tout simplement. Atten...   \n",
       "2   2023-01-21     2  Accueilli par une personne féminine d'un âge c...   \n",
       "3   2023-05-07     1  Je suis Hassan Bashir, j'ai besoin de rendez-v...   \n",
       "4   2022-05-21     1  De loin la pire agence.\\nD'une incompétence sa...   \n",
       "..         ...   ...                                                ...   \n",
       "672 2017-05-21     5                                                NaN   \n",
       "673 2019-05-21     4                                                NaN   \n",
       "674 2018-05-21     1                                                NaN   \n",
       "675 2022-10-21     1                                                NaN   \n",
       "676 2018-05-21     2                                                NaN   \n",
       "\n",
       "              object_address  \n",
       "0       pole emploi brancion  \n",
       "1       pole emploi brancion  \n",
       "2       pole emploi brancion  \n",
       "3       pole emploi brancion  \n",
       "4       pole emploi brancion  \n",
       "..                       ...  \n",
       "672  pole emploi jean moulin  \n",
       "673  pole emploi jean moulin  \n",
       "674  pole emploi jean moulin  \n",
       "675  pole emploi jean moulin  \n",
       "676  pole emploi jean moulin  \n",
       "\n",
       "[677 rows x 4 columns]"
      ]
     },
     "execution_count": 548,
     "metadata": {},
     "output_type": "execute_result"
    }
   ],
   "source": [
    "data"
   ]
  },
  {
   "cell_type": "code",
   "execution_count": 551,
   "metadata": {},
   "outputs": [],
   "source": [
    "data['date'] = pd.to_datetime(data['date'])\n",
    "# Regrouper les données par année\n",
    "data['years'] = data['date'].dt.to_period('Y')\n",
    "df_year_lieu = data.groupby(['object_address', 'years']).agg({'rate': ['count', 'mean']}).reset_index()\n",
    "df_year_lieu.loc[df_year_lieu.groupby(['years'])['rate']['mean'].idxmax()]"
   ]
  },
  {
   "cell_type": "code",
   "execution_count": 553,
   "metadata": {},
   "outputs": [],
   "source": [
    "df_year_lieu.reset_index(inplace=True)"
   ]
  },
  {
   "cell_type": "code",
   "execution_count": 563,
   "metadata": {},
   "outputs": [
    {
     "data": {
      "text/html": [
       "<div>\n",
       "<style scoped>\n",
       "    .dataframe tbody tr th:only-of-type {\n",
       "        vertical-align: middle;\n",
       "    }\n",
       "\n",
       "    .dataframe tbody tr th {\n",
       "        vertical-align: top;\n",
       "    }\n",
       "\n",
       "    .dataframe thead th {\n",
       "        text-align: right;\n",
       "    }\n",
       "</style>\n",
       "<table border=\"1\" class=\"dataframe\">\n",
       "  <thead>\n",
       "    <tr style=\"text-align: right;\">\n",
       "      <th></th>\n",
       "      <th>object_address</th>\n",
       "      <th>years</th>\n",
       "      <th>count_rate</th>\n",
       "      <th>mean_rate</th>\n",
       "    </tr>\n",
       "  </thead>\n",
       "  <tbody>\n",
       "    <tr>\n",
       "      <th>0</th>\n",
       "      <td>pole emploi armand carrel</td>\n",
       "      <td>2016</td>\n",
       "      <td>1</td>\n",
       "      <td>1.00</td>\n",
       "    </tr>\n",
       "    <tr>\n",
       "      <th>1</th>\n",
       "      <td>pole emploi armand carrel</td>\n",
       "      <td>2017</td>\n",
       "      <td>5</td>\n",
       "      <td>3.20</td>\n",
       "    </tr>\n",
       "    <tr>\n",
       "      <th>2</th>\n",
       "      <td>pole emploi armand carrel</td>\n",
       "      <td>2018</td>\n",
       "      <td>4</td>\n",
       "      <td>3.00</td>\n",
       "    </tr>\n",
       "    <tr>\n",
       "      <th>3</th>\n",
       "      <td>pole emploi armand carrel</td>\n",
       "      <td>2019</td>\n",
       "      <td>8</td>\n",
       "      <td>2.75</td>\n",
       "    </tr>\n",
       "    <tr>\n",
       "      <th>4</th>\n",
       "      <td>pole emploi armand carrel</td>\n",
       "      <td>2020</td>\n",
       "      <td>7</td>\n",
       "      <td>2.00</td>\n",
       "    </tr>\n",
       "    <tr>\n",
       "      <th>...</th>\n",
       "      <td>...</td>\n",
       "      <td>...</td>\n",
       "      <td>...</td>\n",
       "      <td>...</td>\n",
       "    </tr>\n",
       "    <tr>\n",
       "      <th>101</th>\n",
       "      <td>pole emploi vitruve</td>\n",
       "      <td>2019</td>\n",
       "      <td>4</td>\n",
       "      <td>2.75</td>\n",
       "    </tr>\n",
       "    <tr>\n",
       "      <th>102</th>\n",
       "      <td>pole emploi vitruve</td>\n",
       "      <td>2020</td>\n",
       "      <td>5</td>\n",
       "      <td>3.40</td>\n",
       "    </tr>\n",
       "    <tr>\n",
       "      <th>103</th>\n",
       "      <td>pole emploi vitruve</td>\n",
       "      <td>2021</td>\n",
       "      <td>2</td>\n",
       "      <td>3.00</td>\n",
       "    </tr>\n",
       "    <tr>\n",
       "      <th>104</th>\n",
       "      <td>pole emploi vitruve</td>\n",
       "      <td>2022</td>\n",
       "      <td>11</td>\n",
       "      <td>3.00</td>\n",
       "    </tr>\n",
       "    <tr>\n",
       "      <th>105</th>\n",
       "      <td>pole emploi vitruve</td>\n",
       "      <td>2023</td>\n",
       "      <td>2</td>\n",
       "      <td>1.00</td>\n",
       "    </tr>\n",
       "  </tbody>\n",
       "</table>\n",
       "<p>106 rows × 4 columns</p>\n",
       "</div>"
      ],
      "text/plain": [
       "                object_address years  count_rate  mean_rate\n",
       "0    pole emploi armand carrel  2016           1       1.00\n",
       "1    pole emploi armand carrel  2017           5       3.20\n",
       "2    pole emploi armand carrel  2018           4       3.00\n",
       "3    pole emploi armand carrel  2019           8       2.75\n",
       "4    pole emploi armand carrel  2020           7       2.00\n",
       "..                         ...   ...         ...        ...\n",
       "101        pole emploi vitruve  2019           4       2.75\n",
       "102        pole emploi vitruve  2020           5       3.40\n",
       "103        pole emploi vitruve  2021           2       3.00\n",
       "104        pole emploi vitruve  2022          11       3.00\n",
       "105        pole emploi vitruve  2023           2       1.00\n",
       "\n",
       "[106 rows x 4 columns]"
      ]
     },
     "execution_count": 563,
     "metadata": {},
     "output_type": "execute_result"
    }
   ],
   "source": [
    "import pandas as pd\n",
    "\n",
    "data['date'] = pd.to_datetime(data['date'])\n",
    "# Regrouper les données par année\n",
    "data['years'] = data['date'].dt.to_period('Y')\n",
    "df_year_lieu = data.groupby(['object_address']).agg(count_rate=('rate', 'count'), mean_rate=('rate', 'mean')).reset_index()\n",
    "df_year_lieu\n"
   ]
  },
  {
   "cell_type": "code",
   "execution_count": 584,
   "metadata": {},
   "outputs": [],
   "source": [
    "df_lieu = data.groupby(['object_address']).agg(count_rate=('rate', 'count'), mean_rate=('rate', 'mean')).reset_index()\n"
   ]
  },
  {
   "cell_type": "code",
   "execution_count": 600,
   "metadata": {},
   "outputs": [],
   "source": [
    "# afficher un tableau avec les lieux et le nombre de reviews\n",
    "top = df_lieu.sort_values(by='mean_rate', ascending=False).head(1)\n"
   ]
  },
  {
   "cell_type": "code",
   "execution_count": 597,
   "metadata": {},
   "outputs": [
    {
     "data": {
      "text/html": [
       "<div>\n",
       "<style scoped>\n",
       "    .dataframe tbody tr th:only-of-type {\n",
       "        vertical-align: middle;\n",
       "    }\n",
       "\n",
       "    .dataframe tbody tr th {\n",
       "        vertical-align: top;\n",
       "    }\n",
       "\n",
       "    .dataframe thead th {\n",
       "        text-align: right;\n",
       "    }\n",
       "</style>\n",
       "<table border=\"1\" class=\"dataframe\">\n",
       "  <thead>\n",
       "    <tr style=\"text-align: right;\">\n",
       "      <th></th>\n",
       "      <th>object_address</th>\n",
       "      <th>count_rate</th>\n",
       "      <th>mean_rate</th>\n",
       "    </tr>\n",
       "  </thead>\n",
       "  <tbody>\n",
       "    <tr>\n",
       "      <th>8</th>\n",
       "      <td>pole emploi laumière</td>\n",
       "      <td>25</td>\n",
       "      <td>3.200000</td>\n",
       "    </tr>\n",
       "    <tr>\n",
       "      <th>6</th>\n",
       "      <td>pole emploi genevoix</td>\n",
       "      <td>29</td>\n",
       "      <td>3.034483</td>\n",
       "    </tr>\n",
       "    <tr>\n",
       "      <th>11</th>\n",
       "      <td>pole emploi piat</td>\n",
       "      <td>20</td>\n",
       "      <td>3.000000</td>\n",
       "    </tr>\n",
       "    <tr>\n",
       "      <th>13</th>\n",
       "      <td>pole emploi vitruve</td>\n",
       "      <td>35</td>\n",
       "      <td>2.914286</td>\n",
       "    </tr>\n",
       "    <tr>\n",
       "      <th>7</th>\n",
       "      <td>pole emploi jean moulin</td>\n",
       "      <td>39</td>\n",
       "      <td>2.820513</td>\n",
       "    </tr>\n",
       "    <tr>\n",
       "      <th>2</th>\n",
       "      <td>pole emploi brancion</td>\n",
       "      <td>124</td>\n",
       "      <td>2.758065</td>\n",
       "    </tr>\n",
       "    <tr>\n",
       "      <th>12</th>\n",
       "      <td>pole emploi vicq d'azir</td>\n",
       "      <td>31</td>\n",
       "      <td>2.741935</td>\n",
       "    </tr>\n",
       "    <tr>\n",
       "      <th>10</th>\n",
       "      <td>pole emploi paul lelong</td>\n",
       "      <td>27</td>\n",
       "      <td>2.592593</td>\n",
       "    </tr>\n",
       "    <tr>\n",
       "      <th>1</th>\n",
       "      <td>pole emploi beaumarchais</td>\n",
       "      <td>32</td>\n",
       "      <td>2.562500</td>\n",
       "    </tr>\n",
       "    <tr>\n",
       "      <th>4</th>\n",
       "      <td>pole emploi daviel</td>\n",
       "      <td>82</td>\n",
       "      <td>2.500000</td>\n",
       "    </tr>\n",
       "    <tr>\n",
       "      <th>3</th>\n",
       "      <td>pole emploi cardinet</td>\n",
       "      <td>77</td>\n",
       "      <td>2.441558</td>\n",
       "    </tr>\n",
       "    <tr>\n",
       "      <th>0</th>\n",
       "      <td>pole emploi armand carrel</td>\n",
       "      <td>47</td>\n",
       "      <td>2.425532</td>\n",
       "    </tr>\n",
       "    <tr>\n",
       "      <th>9</th>\n",
       "      <td>pole emploi ney</td>\n",
       "      <td>54</td>\n",
       "      <td>2.296296</td>\n",
       "    </tr>\n",
       "    <tr>\n",
       "      <th>5</th>\n",
       "      <td>pole emploi diderot</td>\n",
       "      <td>54</td>\n",
       "      <td>2.129630</td>\n",
       "    </tr>\n",
       "  </tbody>\n",
       "</table>\n",
       "</div>"
      ],
      "text/plain": [
       "               object_address  count_rate  mean_rate\n",
       "8        pole emploi laumière          25   3.200000\n",
       "6        pole emploi genevoix          29   3.034483\n",
       "11           pole emploi piat          20   3.000000\n",
       "13        pole emploi vitruve          35   2.914286\n",
       "7     pole emploi jean moulin          39   2.820513\n",
       "2        pole emploi brancion         124   2.758065\n",
       "12    pole emploi vicq d'azir          31   2.741935\n",
       "10    pole emploi paul lelong          27   2.592593\n",
       "1    pole emploi beaumarchais          32   2.562500\n",
       "4          pole emploi daviel          82   2.500000\n",
       "3        pole emploi cardinet          77   2.441558\n",
       "0   pole emploi armand carrel          47   2.425532\n",
       "9             pole emploi ney          54   2.296296\n",
       "5         pole emploi diderot          54   2.129630"
      ]
     },
     "execution_count": 597,
     "metadata": {},
     "output_type": "execute_result"
    }
   ],
   "source": [
    "df_lieu.sort_values(by='mean_rate', ascending=False)"
   ]
  },
  {
   "cell_type": "code",
   "execution_count": 602,
   "metadata": {},
   "outputs": [
    {
     "data": {
      "text/plain": [
       "'pole emploi laumière'"
      ]
     },
     "execution_count": 602,
     "metadata": {},
     "output_type": "execute_result"
    }
   ],
   "source": [
    "top['object_address'].values[0]"
   ]
  },
  {
   "cell_type": "code",
   "execution_count": 599,
   "metadata": {},
   "outputs": [
    {
     "data": {
      "text/html": [
       "<div>\n",
       "<style scoped>\n",
       "    .dataframe tbody tr th:only-of-type {\n",
       "        vertical-align: middle;\n",
       "    }\n",
       "\n",
       "    .dataframe tbody tr th {\n",
       "        vertical-align: top;\n",
       "    }\n",
       "\n",
       "    .dataframe thead th {\n",
       "        text-align: right;\n",
       "    }\n",
       "</style>\n",
       "<table border=\"1\" class=\"dataframe\">\n",
       "  <thead>\n",
       "    <tr style=\"text-align: right;\">\n",
       "      <th></th>\n",
       "      <th>object_address</th>\n",
       "      <th>count_rate</th>\n",
       "      <th>mean_rate</th>\n",
       "    </tr>\n",
       "  </thead>\n",
       "  <tbody>\n",
       "    <tr>\n",
       "      <th>5</th>\n",
       "      <td>pole emploi diderot</td>\n",
       "      <td>54</td>\n",
       "      <td>2.12963</td>\n",
       "    </tr>\n",
       "  </tbody>\n",
       "</table>\n",
       "</div>"
      ],
      "text/plain": [
       "        object_address  count_rate  mean_rate\n",
       "5  pole emploi diderot          54    2.12963"
      ]
     },
     "execution_count": 599,
     "metadata": {},
     "output_type": "execute_result"
    }
   ],
   "source": [
    "min"
   ]
  },
  {
   "cell_type": "code",
   "execution_count": 598,
   "metadata": {},
   "outputs": [],
   "source": [
    "min = df_lieu.sort_values(by='mean_rate', ascending=True).head(1)\n"
   ]
  },
  {
   "cell_type": "code",
   "execution_count": 570,
   "metadata": {},
   "outputs": [
    {
     "data": {
      "text/html": [
       "<div>\n",
       "<style scoped>\n",
       "    .dataframe tbody tr th:only-of-type {\n",
       "        vertical-align: middle;\n",
       "    }\n",
       "\n",
       "    .dataframe tbody tr th {\n",
       "        vertical-align: top;\n",
       "    }\n",
       "\n",
       "    .dataframe thead th {\n",
       "        text-align: right;\n",
       "    }\n",
       "</style>\n",
       "<table border=\"1\" class=\"dataframe\">\n",
       "  <thead>\n",
       "    <tr style=\"text-align: right;\">\n",
       "      <th></th>\n",
       "      <th>object_address</th>\n",
       "      <th>years</th>\n",
       "      <th>count_rate</th>\n",
       "      <th>mean_rate</th>\n",
       "    </tr>\n",
       "  </thead>\n",
       "  <tbody>\n",
       "    <tr>\n",
       "      <th>5</th>\n",
       "      <td>pole emploi armand carrel</td>\n",
       "      <td>2021</td>\n",
       "      <td>11</td>\n",
       "      <td>2.090909</td>\n",
       "    </tr>\n",
       "    <tr>\n",
       "      <th>16</th>\n",
       "      <td>pole emploi brancion</td>\n",
       "      <td>2017</td>\n",
       "      <td>18</td>\n",
       "      <td>2.444444</td>\n",
       "    </tr>\n",
       "    <tr>\n",
       "      <th>17</th>\n",
       "      <td>pole emploi brancion</td>\n",
       "      <td>2018</td>\n",
       "      <td>12</td>\n",
       "      <td>2.666667</td>\n",
       "    </tr>\n",
       "    <tr>\n",
       "      <th>18</th>\n",
       "      <td>pole emploi brancion</td>\n",
       "      <td>2019</td>\n",
       "      <td>22</td>\n",
       "      <td>2.727273</td>\n",
       "    </tr>\n",
       "    <tr>\n",
       "      <th>19</th>\n",
       "      <td>pole emploi brancion</td>\n",
       "      <td>2020</td>\n",
       "      <td>16</td>\n",
       "      <td>3.250000</td>\n",
       "    </tr>\n",
       "    <tr>\n",
       "      <th>20</th>\n",
       "      <td>pole emploi brancion</td>\n",
       "      <td>2021</td>\n",
       "      <td>18</td>\n",
       "      <td>2.666667</td>\n",
       "    </tr>\n",
       "    <tr>\n",
       "      <th>21</th>\n",
       "      <td>pole emploi brancion</td>\n",
       "      <td>2022</td>\n",
       "      <td>22</td>\n",
       "      <td>3.000000</td>\n",
       "    </tr>\n",
       "    <tr>\n",
       "      <th>22</th>\n",
       "      <td>pole emploi brancion</td>\n",
       "      <td>2023</td>\n",
       "      <td>14</td>\n",
       "      <td>2.285714</td>\n",
       "    </tr>\n",
       "    <tr>\n",
       "      <th>25</th>\n",
       "      <td>pole emploi cardinet</td>\n",
       "      <td>2019</td>\n",
       "      <td>12</td>\n",
       "      <td>2.166667</td>\n",
       "    </tr>\n",
       "    <tr>\n",
       "      <th>27</th>\n",
       "      <td>pole emploi cardinet</td>\n",
       "      <td>2021</td>\n",
       "      <td>13</td>\n",
       "      <td>3.000000</td>\n",
       "    </tr>\n",
       "    <tr>\n",
       "      <th>28</th>\n",
       "      <td>pole emploi cardinet</td>\n",
       "      <td>2022</td>\n",
       "      <td>24</td>\n",
       "      <td>2.958333</td>\n",
       "    </tr>\n",
       "    <tr>\n",
       "      <th>32</th>\n",
       "      <td>pole emploi daviel</td>\n",
       "      <td>2018</td>\n",
       "      <td>14</td>\n",
       "      <td>2.071429</td>\n",
       "    </tr>\n",
       "    <tr>\n",
       "      <th>34</th>\n",
       "      <td>pole emploi daviel</td>\n",
       "      <td>2020</td>\n",
       "      <td>16</td>\n",
       "      <td>3.625000</td>\n",
       "    </tr>\n",
       "    <tr>\n",
       "      <th>36</th>\n",
       "      <td>pole emploi daviel</td>\n",
       "      <td>2022</td>\n",
       "      <td>16</td>\n",
       "      <td>2.625000</td>\n",
       "    </tr>\n",
       "    <tr>\n",
       "      <th>73</th>\n",
       "      <td>pole emploi ney</td>\n",
       "      <td>2018</td>\n",
       "      <td>11</td>\n",
       "      <td>1.909091</td>\n",
       "    </tr>\n",
       "    <tr>\n",
       "      <th>77</th>\n",
       "      <td>pole emploi ney</td>\n",
       "      <td>2022</td>\n",
       "      <td>11</td>\n",
       "      <td>2.636364</td>\n",
       "    </tr>\n",
       "    <tr>\n",
       "      <th>97</th>\n",
       "      <td>pole emploi vicq d'azir</td>\n",
       "      <td>2022</td>\n",
       "      <td>12</td>\n",
       "      <td>2.916667</td>\n",
       "    </tr>\n",
       "    <tr>\n",
       "      <th>104</th>\n",
       "      <td>pole emploi vitruve</td>\n",
       "      <td>2022</td>\n",
       "      <td>11</td>\n",
       "      <td>3.000000</td>\n",
       "    </tr>\n",
       "  </tbody>\n",
       "</table>\n",
       "</div>"
      ],
      "text/plain": [
       "                object_address years  count_rate  mean_rate\n",
       "5    pole emploi armand carrel  2021          11   2.090909\n",
       "16        pole emploi brancion  2017          18   2.444444\n",
       "17        pole emploi brancion  2018          12   2.666667\n",
       "18        pole emploi brancion  2019          22   2.727273\n",
       "19        pole emploi brancion  2020          16   3.250000\n",
       "20        pole emploi brancion  2021          18   2.666667\n",
       "21        pole emploi brancion  2022          22   3.000000\n",
       "22        pole emploi brancion  2023          14   2.285714\n",
       "25        pole emploi cardinet  2019          12   2.166667\n",
       "27        pole emploi cardinet  2021          13   3.000000\n",
       "28        pole emploi cardinet  2022          24   2.958333\n",
       "32          pole emploi daviel  2018          14   2.071429\n",
       "34          pole emploi daviel  2020          16   3.625000\n",
       "36          pole emploi daviel  2022          16   2.625000\n",
       "73             pole emploi ney  2018          11   1.909091\n",
       "77             pole emploi ney  2022          11   2.636364\n",
       "97     pole emploi vicq d'azir  2022          12   2.916667\n",
       "104        pole emploi vitruve  2022          11   3.000000"
      ]
     },
     "execution_count": 570,
     "metadata": {},
     "output_type": "execute_result"
    }
   ],
   "source": [
    "top"
   ]
  },
  {
   "cell_type": "code",
   "execution_count": 555,
   "metadata": {},
   "outputs": [
    {
     "ename": "IndexError",
     "evalue": "Column(s) rate already selected",
     "output_type": "error",
     "traceback": [
      "\u001b[0;31m---------------------------------------------------------------------------\u001b[0m",
      "\u001b[0;31mIndexError\u001b[0m                                Traceback (most recent call last)",
      "Cell \u001b[0;32mIn[555], line 2\u001b[0m\n\u001b[1;32m      1\u001b[0m \u001b[39m# Note moyenne la plus élévé par année et par lieu\u001b[39;00m\n\u001b[0;32m----> 2\u001b[0m df_year_lieu\u001b[39m.\u001b[39mloc[df_year_lieu\u001b[39m.\u001b[39;49mgroupby([\u001b[39m'\u001b[39;49m\u001b[39myears\u001b[39;49m\u001b[39m'\u001b[39;49m])[\u001b[39m'\u001b[39;49m\u001b[39mrate\u001b[39;49m\u001b[39m'\u001b[39;49m][\u001b[39m'\u001b[39;49m\u001b[39mmean\u001b[39;49m\u001b[39m'\u001b[39;49m]\u001b[39m.\u001b[39midxmax()]\n",
      "File \u001b[0;32m~/repo/Hetic/projet_gouv/scraping/clean_data_env/lib/python3.10/site-packages/pandas/core/groupby/generic.py:1771\u001b[0m, in \u001b[0;36mDataFrameGroupBy.__getitem__\u001b[0;34m(self, key)\u001b[0m\n\u001b[1;32m   1764\u001b[0m \u001b[39mif\u001b[39;00m \u001b[39misinstance\u001b[39m(key, \u001b[39mtuple\u001b[39m) \u001b[39mand\u001b[39;00m \u001b[39mlen\u001b[39m(key) \u001b[39m>\u001b[39m \u001b[39m1\u001b[39m:\n\u001b[1;32m   1765\u001b[0m     \u001b[39m# if len == 1, then it becomes a SeriesGroupBy and this is actually\u001b[39;00m\n\u001b[1;32m   1766\u001b[0m     \u001b[39m# valid syntax, so don't raise\u001b[39;00m\n\u001b[1;32m   1767\u001b[0m     \u001b[39mraise\u001b[39;00m \u001b[39mValueError\u001b[39;00m(\n\u001b[1;32m   1768\u001b[0m         \u001b[39m\"\u001b[39m\u001b[39mCannot subset columns with a tuple with more than one element. \u001b[39m\u001b[39m\"\u001b[39m\n\u001b[1;32m   1769\u001b[0m         \u001b[39m\"\u001b[39m\u001b[39mUse a list instead.\u001b[39m\u001b[39m\"\u001b[39m\n\u001b[1;32m   1770\u001b[0m     )\n\u001b[0;32m-> 1771\u001b[0m \u001b[39mreturn\u001b[39;00m \u001b[39msuper\u001b[39;49m()\u001b[39m.\u001b[39;49m\u001b[39m__getitem__\u001b[39;49m(key)\n",
      "File \u001b[0;32m~/repo/Hetic/projet_gouv/scraping/clean_data_env/lib/python3.10/site-packages/pandas/core/base.py:234\u001b[0m, in \u001b[0;36mSelectionMixin.__getitem__\u001b[0;34m(self, key)\u001b[0m\n\u001b[1;32m    232\u001b[0m \u001b[39mdef\u001b[39;00m \u001b[39m__getitem__\u001b[39m(\u001b[39mself\u001b[39m, key):\n\u001b[1;32m    233\u001b[0m     \u001b[39mif\u001b[39;00m \u001b[39mself\u001b[39m\u001b[39m.\u001b[39m_selection \u001b[39mis\u001b[39;00m \u001b[39mnot\u001b[39;00m \u001b[39mNone\u001b[39;00m:\n\u001b[0;32m--> 234\u001b[0m         \u001b[39mraise\u001b[39;00m \u001b[39mIndexError\u001b[39;00m(\u001b[39mf\u001b[39m\u001b[39m\"\u001b[39m\u001b[39mColumn(s) \u001b[39m\u001b[39m{\u001b[39;00m\u001b[39mself\u001b[39m\u001b[39m.\u001b[39m_selection\u001b[39m}\u001b[39;00m\u001b[39m already selected\u001b[39m\u001b[39m\"\u001b[39m)\n\u001b[1;32m    236\u001b[0m     \u001b[39mif\u001b[39;00m \u001b[39misinstance\u001b[39m(key, (\u001b[39mlist\u001b[39m, \u001b[39mtuple\u001b[39m, ABCSeries, ABCIndex, np\u001b[39m.\u001b[39mndarray)):\n\u001b[1;32m    237\u001b[0m         \u001b[39mif\u001b[39;00m \u001b[39mlen\u001b[39m(\u001b[39mself\u001b[39m\u001b[39m.\u001b[39mobj\u001b[39m.\u001b[39mcolumns\u001b[39m.\u001b[39mintersection(key)) \u001b[39m!=\u001b[39m \u001b[39mlen\u001b[39m(\u001b[39mset\u001b[39m(key)):\n",
      "\u001b[0;31mIndexError\u001b[0m: Column(s) rate already selected"
     ]
    }
   ],
   "source": [
    "# Note moyenne la plus élévé par année et par lieu\n",
    "df_year_lieu.loc[df_year_lieu.groupby(['years'])['rate']['mean'].idxmax()]"
   ]
  }
 ],
 "metadata": {
  "kernelspec": {
   "display_name": "clean_data_env",
   "language": "python",
   "name": "python3"
  },
  "language_info": {
   "codemirror_mode": {
    "name": "ipython",
    "version": 3
   },
   "file_extension": ".py",
   "mimetype": "text/x-python",
   "name": "python",
   "nbconvert_exporter": "python",
   "pygments_lexer": "ipython3",
   "version": "3.10.2"
  },
  "orig_nbformat": 4
 },
 "nbformat": 4,
 "nbformat_minor": 2
}
