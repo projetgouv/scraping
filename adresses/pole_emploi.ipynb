{
 "cells": [
  {
   "attachments": {},
   "cell_type": "markdown",
   "metadata": {},
   "source": [
    "# Extraire les adresses"
   ]
  },
  {
   "cell_type": "code",
   "execution_count": 14,
   "metadata": {},
   "outputs": [
    {
     "name": "stdout",
     "output_type": "stream",
     "text": [
      "Adresse : 5 rue de Quimper\n",
      "Latitude : 47.7655818\n",
      "Longitude : 7.325628199\n",
      "--------------------\n"
     ]
    }
   ],
   "source": [
    "import requests\n",
    "import csv\n",
    "\n",
    "url = \"https://etablissements-publics.api.gouv.fr/v3/organismes/pole_emploi\"\n",
    "params = {}\n",
    "\n",
    "response = requests.get(url, params=params)\n",
    "data = response.json()\n",
    "\n",
    "# Vérifier si la requête a réussi\n",
    "if response.status_code == 200:\n",
    "    # Ouvrir un fichier CSV en mode écriture\n",
    "    with open(\"pole_emploi.csv\", \"w\", newline=\"\", encoding=\"utf-8\") as csvfile:\n",
    "        writer = csv.writer(csvfile)\n",
    "\n",
    "        # Écrire l'en-tête du CSV\n",
    "        writer.writerow([\"Nom\", \"Adresse\"])\n",
    "\n",
    "        # Parcourir les données et extraire le nom et l'adresse\n",
    "        for feature in data[\"features\"]:\n",
    "            for elem in feature:\n",
    "                properties = elem[\"properties\"]\n",
    "                nom = properties[\"nom\"]\n",
    "                adresse = properties[\"adresses\"][0][\"lignes\"][0]\n",
    "                writer.writerow([nom, adresse])\n",
    "\n",
    "    print(\"Le fichier CSV a été créé avec succès.\")\n",
    "else:\n",
    "    print(\"La requête a échoué avec le code d'erreur :\", response.status_code)\n"
   ]
  },
  {
   "cell_type": "code",
   "execution_count": 20,
   "metadata": {},
   "outputs": [],
   "source": [
    "import pandas as pd\n",
    "data = pd.read_csv(\"/Users/camille/repo/Hetic/projet_gouv/scraping/pole_emploi.csv\")"
   ]
  },
  {
   "cell_type": "code",
   "execution_count": 22,
   "metadata": {},
   "outputs": [],
   "source": [
    "data['search'] = data['Nom'] + ' ' + data['Adresse']"
   ]
  },
  {
   "cell_type": "code",
   "execution_count": 24,
   "metadata": {},
   "outputs": [],
   "source": [
    "data.to_csv(\"/Users/camille/repo/Hetic/projet_gouv/scraping/pole_emploi.csv\", index=False)"
   ]
  }
 ],
 "metadata": {
  "kernelspec": {
   "display_name": "clean_data_env",
   "language": "python",
   "name": "python3"
  },
  "language_info": {
   "codemirror_mode": {
    "name": "ipython",
    "version": 3
   },
   "file_extension": ".py",
   "mimetype": "text/x-python",
   "name": "python",
   "nbconvert_exporter": "python",
   "pygments_lexer": "ipython3",
   "version": "3.10.2"
  },
  "orig_nbformat": 4
 },
 "nbformat": 4,
 "nbformat_minor": 2
}
